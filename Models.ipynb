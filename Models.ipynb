{
 "cells": [
  {
   "cell_type": "code",
   "execution_count": null,
   "metadata": {
    "id": "wtLQkiD_D5sa"
   },
   "outputs": [],
   "source": [
    "\n",
    "#from google.colab import drive\n",
    "#drive.mount('/content/drive')"
   ]
  },
  {
   "cell_type": "markdown",
   "metadata": {
    "id": "Y92e_D7i8uAf"
   },
   "source": [
    "### Comparing training and test scores and what they mean\n",
    "    Tr = Te (low) -- underfit\n",
    "    Tr = Te (high) -- good fit\n",
    "    Tr > Te -- overfit\n",
    "    Tr < Te -- outliers"
   ]
  },
  {
   "cell_type": "markdown",
   "metadata": {
    "id": "bpYrmkYUNujn"
   },
   "source": [
    "I will be fitting the data to several regression model types and in testing I will choose the best fit model.\n",
    "\n",
    "### Regression models used:\n",
    "\n",
    "-  Muliple Linear Regression\n",
    "-  Polynomial Regression\n",
    "-  Ridge Regression"
   ]
  },
  {
   "cell_type": "code",
   "execution_count": null,
   "metadata": {
    "id": "GeJ2JJ3cNujq"
   },
   "outputs": [],
   "source": [
    "import pandas as pd\n",
    "import numpy as np\n",
    "import seaborn as sns\n",
    "import matplotlib.pyplot as plt\n",
    "from sklearn import linear_model\n",
    "%matplotlib inline"
   ]
  },
  {
   "cell_type": "code",
   "execution_count": null,
   "metadata": {
    "id": "tyxpYK83P83C"
   },
   "outputs": [],
   "source": [
    "Hotels = pd.read_csv('reg22.csv')\n"
   ]
  },
  {
   "cell_type": "code",
   "execution_count": null,
   "metadata": {
    "colab": {
     "base_uri": "https://localhost:8080/",
     "height": 445
    },
    "id": "3fJXRtZaeHSb",
    "outputId": "abc9cddb-714c-4a28-c3d6-587ea4213422"
   },
   "outputs": [
    {
     "data": {
      "text/html": [
       "<div>\n",
       "<style scoped>\n",
       "    .dataframe tbody tr th:only-of-type {\n",
       "        vertical-align: middle;\n",
       "    }\n",
       "\n",
       "    .dataframe tbody tr th {\n",
       "        vertical-align: top;\n",
       "    }\n",
       "\n",
       "    .dataframe thead th {\n",
       "        text-align: right;\n",
       "    }\n",
       "</style>\n",
       "<table border=\"1\" class=\"dataframe\">\n",
       "  <thead>\n",
       "    <tr style=\"text-align: right;\">\n",
       "      <th></th>\n",
       "      <th>hotel_name</th>\n",
       "      <th>location</th>\n",
       "      <th>price</th>\n",
       "      <th>room_type</th>\n",
       "      <th>beds</th>\n",
       "      <th>rating</th>\n",
       "      <th>rating_title</th>\n",
       "      <th>number_of_ratings</th>\n",
       "      <th>per_night</th>\n",
       "      <th>Log_number_of_ratings</th>\n",
       "      <th>Log_price</th>\n",
       "      <th>Size_m2</th>\n",
       "    </tr>\n",
       "  </thead>\n",
       "  <tbody>\n",
       "    <tr>\n",
       "      <th>0</th>\n",
       "      <td>رواح للوحدات السكنية</td>\n",
       "      <td>Taif</td>\n",
       "      <td>190</td>\n",
       "      <td>One-Bedroom Apartment</td>\n",
       "      <td>2</td>\n",
       "      <td>7.5</td>\n",
       "      <td>Good</td>\n",
       "      <td>180</td>\n",
       "      <td>1</td>\n",
       "      <td>5.192957</td>\n",
       "      <td>5.247024</td>\n",
       "      <td>54</td>\n",
       "    </tr>\n",
       "    <tr>\n",
       "      <th>1</th>\n",
       "      <td>Aloft Riyadh Hotel</td>\n",
       "      <td>Riyadh</td>\n",
       "      <td>475</td>\n",
       "      <td>Breezy Room, Guest room, 1 King</td>\n",
       "      <td>1</td>\n",
       "      <td>8.2</td>\n",
       "      <td>Good</td>\n",
       "      <td>2947</td>\n",
       "      <td>1</td>\n",
       "      <td>7.988543</td>\n",
       "      <td>6.163315</td>\n",
       "      <td>32</td>\n",
       "    </tr>\n",
       "    <tr>\n",
       "      <th>2</th>\n",
       "      <td>Nourth House ApartHotel</td>\n",
       "      <td>Al Qurayyat</td>\n",
       "      <td>200</td>\n",
       "      <td>Budget Twin Room</td>\n",
       "      <td>2</td>\n",
       "      <td>7.5</td>\n",
       "      <td>Good</td>\n",
       "      <td>264</td>\n",
       "      <td>1</td>\n",
       "      <td>5.575949</td>\n",
       "      <td>5.298317</td>\n",
       "      <td>35</td>\n",
       "    </tr>\n",
       "    <tr>\n",
       "      <th>3</th>\n",
       "      <td>Dyar Al Hamra Hotel</td>\n",
       "      <td>Jeddah</td>\n",
       "      <td>340</td>\n",
       "      <td>Junior Suite King</td>\n",
       "      <td>1</td>\n",
       "      <td>7.7</td>\n",
       "      <td>Good</td>\n",
       "      <td>3923</td>\n",
       "      <td>1</td>\n",
       "      <td>8.274612</td>\n",
       "      <td>5.828946</td>\n",
       "      <td>28</td>\n",
       "    </tr>\n",
       "    <tr>\n",
       "      <th>4</th>\n",
       "      <td>Courtyard by Marriott Riyadh Northern Ring Road</td>\n",
       "      <td>Riyadh</td>\n",
       "      <td>525</td>\n",
       "      <td>Standard, Guest room, 1 King</td>\n",
       "      <td>1</td>\n",
       "      <td>8.1</td>\n",
       "      <td>Good</td>\n",
       "      <td>1032</td>\n",
       "      <td>1</td>\n",
       "      <td>6.939254</td>\n",
       "      <td>6.263398</td>\n",
       "      <td>30</td>\n",
       "    </tr>\n",
       "  </tbody>\n",
       "</table>\n",
       "</div>"
      ],
      "text/plain": [
       "                                        hotel_name  ... Size_m2\n",
       "0                             رواح للوحدات السكنية  ...      54\n",
       "1                               Aloft Riyadh Hotel  ...      32\n",
       "2                          Nourth House ApartHotel  ...      35\n",
       "3                              Dyar Al Hamra Hotel  ...      28\n",
       "4  Courtyard by Marriott Riyadh Northern Ring Road  ...      30\n",
       "\n",
       "[5 rows x 12 columns]"
      ]
     },
     "execution_count": 3,
     "metadata": {},
     "output_type": "execute_result"
    }
   ],
   "source": [
    "Hotels.rename({'Size': 'Size_m2'}, axis=1, inplace=True) \n",
    "Hotels.head() # important price transformed to >> Log_price "
   ]
  },
  {
   "cell_type": "code",
   "execution_count": null,
   "metadata": {
    "colab": {
     "base_uri": "https://localhost:8080/",
     "height": 232
    },
    "id": "5HCvyQSP44n9",
    "outputId": "c1afaec2-7fb1-41c9-edcc-4e1f05ec73ea"
   },
   "outputs": [],
   "source": [
    "\n",
    "\n",
    "\n",
    "\n",
    "\n"
   ]
  },
  {
   "cell_type": "markdown",
   "metadata": {
    "id": "Hp_d9C0BNujr"
   },
   "source": [
    "# Preprocessing"
   ]
  },
  {
   "cell_type": "markdown",
   "metadata": {
    "id": "d1diTtiKNujr"
   },
   "source": [
    "apply transformations to linearize and standerdize clean data:\n",
    "\n",
    "\n",
    "1. Normalization And Standardization\n",
    "2. Feature Scaling \n",
    "3. Guassian Transformations\n",
    "\n",
    "\n"
   ]
  },
  {
   "cell_type": "code",
   "execution_count": null,
   "metadata": {
    "id": "bzV2Njv7rJO_"
   },
   "outputs": [],
   "source": [
    "from sklearn.preprocessing import StandardScaler\n"
   ]
  },
  {
   "cell_type": "code",
   "execution_count": null,
   "metadata": {
    "id": "x15Im0o7Nujr"
   },
   "outputs": [],
   "source": [
    "#sns.pairplot(Hotels)\n"
   ]
  },
  {
   "cell_type": "code",
   "execution_count": null,
   "metadata": {
    "id": "ex49aUfUxM1i"
   },
   "outputs": [],
   "source": [
    "import matplotlib.pyplot as plt\n",
    "import scipy.stats as stat\n",
    "import pylab"
   ]
  },
  {
   "cell_type": "code",
   "execution_count": null,
   "metadata": {
    "id": "2AjKRiCrxIyN"
   },
   "outputs": [],
   "source": [
    "#### If you want to check whether feature is guassian or normal distributed\n",
    "#### Q-Q plot\n",
    "def plot_data(df,feature):\n",
    "    plt.figure(figsize=(10,6))\n",
    "    plt.subplot(1,2,1)\n",
    "    df[feature].hist()\n",
    "    plt.subplot(1,2,2)\n",
    "    stat.probplot(df[feature],dist='norm',plot=pylab)\n",
    "    plt.show()"
   ]
  },
  {
   "cell_type": "code",
   "execution_count": null,
   "metadata": {
    "colab": {
     "base_uri": "https://localhost:8080/"
    },
    "id": "ZTQbVF2AIkt-",
    "outputId": "5dce33d5-70d1-4ece-fb71-4cbe42bc6009"
   },
   "outputs": [
    {
     "data": {
      "text/plain": [
       "Index(['hotel_name', 'location', 'price', 'room_type', 'beds', 'rating',\n",
       "       'rating_title', 'number_of_ratings', 'per_night',\n",
       "       'Log_number_of_ratings', 'Log_price', 'Size_m2'],\n",
       "      dtype='object')"
      ]
     },
     "execution_count": 17,
     "metadata": {},
     "output_type": "execute_result"
    }
   ],
   "source": [
    "Hotels.columns"
   ]
  },
  {
   "cell_type": "markdown",
   "metadata": {
    "id": "p4YPVbYi2C4A"
   },
   "source": [
    "###transforming discrete independent variable 'beds':"
   ]
  },
  {
   "cell_type": "code",
   "execution_count": null,
   "metadata": {
    "colab": {
     "base_uri": "https://localhost:8080/",
     "height": 404
    },
    "id": "plcQyU8VxJfD",
    "outputId": "94a7e23e-ab8d-4419-f187-4ea3e34b25de"
   },
   "outputs": [
    {
     "data": {
      "image/png": "[encoded data removed]",
      "text/plain": [
       "<Figure size 720x432 with 2 Axes>"
      ]
     },
     "metadata": {
      "needs_background": "light"
     },
     "output_type": "display_data"
    }
   ],
   "source": [
    "plot_data(Hotels, 'beds')"
   ]
  },
  {
   "cell_type": "code",
   "execution_count": null,
   "metadata": {
    "colab": {
     "base_uri": "https://localhost:8080/"
    },
    "id": "QmzEa77XxzeO",
    "outputId": "62e3a115-0cc7-4310-9763-c24b701108f6"
   },
   "outputs": [
    {
     "data": {
      "image/png": "[encoded data removed]",
      "text/plain": [
       "<Figure size 720x432 with 2 Axes>"
      ]
     },
     "metadata": {
      "needs_background": "light"
     },
     "output_type": "display_data"
    }
   ],
   "source": [
    "Hotels['beds_log'] = np.log(Hotels.beds)\n",
    "plot_data(Hotels, 'beds_log')"
   ]
  },
  {
   "cell_type": "code",
   "execution_count": null,
   "metadata": {
    "colab": {
     "base_uri": "https://localhost:8080/"
    },
    "id": "Y5I4m6svyp4v",
    "outputId": "36eb21ca-cdd8-495e-a69c-7aa4b82a475f"
   },
   "outputs": [
    {
     "data": {
      "image/png": "[encoded data removed]",
      "text/plain": [
       "<Figure size 720x432 with 2 Axes>"
      ]
     },
     "metadata": {
      "needs_background": "light"
     },
     "output_type": "display_data"
    }
   ],
   "source": [
    "Hotels['beds_Boxcox'],parameters=stat.boxcox(Hotels['beds']+1)\n",
    "plot_data(Hotels,'beds_Boxcox')"
   ]
  },
  {
   "cell_type": "code",
   "execution_count": null,
   "metadata": {
    "colab": {
     "base_uri": "https://localhost:8080/"
    },
    "id": "rTxz1RetzRA9",
    "outputId": "4b857bee-0a2a-4844-df1a-0ea4496aaeb8"
   },
   "outputs": [
    {
     "data": {
      "image/png": "[encoded data removed]",
      "text/plain": [
       "<Figure size 720x432 with 2 Axes>"
      ]
     },
     "metadata": {
      "needs_background": "light"
     },
     "output_type": "display_data"
    }
   ],
   "source": [
    "Hotels['beds_boxcox^2'] = np.power(Hotels.beds_Boxcox,2)\n",
    "plot_data(Hotels, 'beds_boxcox^2')"
   ]
  },
  {
   "cell_type": "code",
   "execution_count": null,
   "metadata": {
    "id": "ckKm1MT30CrP"
   },
   "outputs": [],
   "source": []
  },
  {
   "cell_type": "markdown",
   "metadata": {
    "id": "HOAryx2M2kSN"
   },
   "source": [
    "###transforming continuos independent variables 'rating' and 'number of ratings':"
   ]
  },
  {
   "cell_type": "code",
   "execution_count": null,
   "metadata": {
    "colab": {
     "base_uri": "https://localhost:8080/"
    },
    "id": "olte7tUTxkaI",
    "outputId": "fcf6c3c4-7bf8-4be7-a3c7-de1f14b43b6e"
   },
   "outputs": [
    {
     "data": {
      "image/png": "[encoded data removed]",
      "text/plain": [
       "<Figure size 720x432 with 2 Axes>"
      ]
     },
     "metadata": {
      "needs_background": "light"
     },
     "output_type": "display_data"
    }
   ],
   "source": [
    "plot_data(Hotels, 'rating')"
   ]
  },
  {
   "cell_type": "code",
   "execution_count": null,
   "metadata": {
    "colab": {
     "base_uri": "https://localhost:8080/"
    },
    "id": "0GAnfG6-0PTk",
    "outputId": "f816076f-9169-4826-e6bf-2837e3bcd45d"
   },
   "outputs": [
    {
     "data": {
      "image/png": "[encoded data removed]",
      "text/plain": [
       "<Figure size 720x432 with 2 Axes>"
      ]
     },
     "metadata": {
      "needs_background": "light"
     },
     "output_type": "display_data"
    }
   ],
   "source": [
    "Hotels['rating_Boxcox'],parameters=stat.boxcox(Hotels['rating']+1)\n",
    "plot_data(Hotels,'rating_Boxcox')"
   ]
  },
  {
   "cell_type": "code",
   "execution_count": null,
   "metadata": {
    "colab": {
     "base_uri": "https://localhost:8080/"
    },
    "id": "i97z5eEaxkuG",
    "outputId": "c69cbbcf-022e-4c38-ac2a-dfaf7d0f601b"
   },
   "outputs": [
    {
     "data": {
      "image/png": "[encoded data removed]",
      "text/plain": [
       "<Figure size 720x432 with 2 Axes>"
      ]
     },
     "metadata": {
      "needs_background": "light"
     },
     "output_type": "display_data"
    }
   ],
   "source": [
    "plot_data(Hotels, 'number_of_ratings')"
   ]
  },
  {
   "cell_type": "code",
   "execution_count": null,
   "metadata": {
    "colab": {
     "base_uri": "https://localhost:8080/"
    },
    "id": "E2G7t2qZ0ZED",
    "outputId": "0c69d391-1329-45be-af96-0a4c783a83a3"
   },
   "outputs": [
    {
     "data": {
      "image/png": "[encoded data removed]",
      "text/plain": [
       "<Figure size 720x432 with 2 Axes>"
      ]
     },
     "metadata": {
      "needs_background": "light"
     },
     "output_type": "display_data"
    }
   ],
   "source": [
    "Hotels['number_of_ratings_Boxcox'],parameters=stat.boxcox(Hotels['number_of_ratings']+1)\n",
    "plot_data(Hotels,'number_of_ratings_Boxcox')"
   ]
  },
  {
   "cell_type": "markdown",
   "metadata": {
    "id": "UxgvBpJvhmyC"
   },
   "source": [
    "### Transforming dependent variable size:"
   ]
  },
  {
   "cell_type": "code",
   "execution_count": null,
   "metadata": {
    "colab": {
     "base_uri": "https://localhost:8080/",
     "height": 404
    },
    "id": "qBczhK7ShxCa",
    "outputId": "4e12d216-b1b7-4581-9cd2-e884a02dfd6b"
   },
   "outputs": [
    {
     "data": {
      "image/png": "[encoded data removed]",
      "text/plain": [
       "<Figure size 720x432 with 2 Axes>"
      ]
     },
     "metadata": {
      "needs_background": "light"
     },
     "output_type": "display_data"
    }
   ],
   "source": [
    "plot_data(Hotels, 'Size_m2')"
   ]
  },
  {
   "cell_type": "code",
   "execution_count": null,
   "metadata": {
    "colab": {
     "base_uri": "https://localhost:8080/",
     "height": 404
    },
    "id": "6fw9wBKPmOQN",
    "outputId": "2ceb757c-d8e9-4ead-bee4-7d33dbd4c0d1"
   },
   "outputs": [
    {
     "data": {
      "image/png": "[encoded data removed]",
      "text/plain": [
       "<Figure size 720x432 with 2 Axes>"
      ]
     },
     "metadata": {
      "needs_background": "light"
     },
     "output_type": "display_data"
    }
   ],
   "source": [
    "Hotels['Size_m2_log'] = np.log(Hotels['Size_m2'])\n",
    "plot_data(Hotels,'Size_m2_log')"
   ]
  },
  {
   "cell_type": "code",
   "execution_count": null,
   "metadata": {
    "colab": {
     "base_uri": "https://localhost:8080/",
     "height": 404
    },
    "id": "Q7E6u-qIjZx3",
    "outputId": "018e236d-7b33-4441-b5a9-9ab4d6e50c6f"
   },
   "outputs": [
    {
     "data": {
      "image/png": "[encoded data removed]",
      "text/plain": [
       "<Figure size 720x432 with 2 Axes>"
      ]
     },
     "metadata": {
      "needs_background": "light"
     },
     "output_type": "display_data"
    }
   ],
   "source": [
    "Hotels['Size_m2_Boxcox'],parameters=stat.boxcox(Hotels['Size_m2']+1)\n",
    "plot_data(Hotels,'Size_m2_Boxcox')"
   ]
  },
  {
   "cell_type": "markdown",
   "metadata": {
    "id": "maIEC0Ad3Rsl"
   },
   "source": [
    "### correlation heat maps for trasformed variables"
   ]
  },
  {
   "cell_type": "code",
   "execution_count": null,
   "metadata": {
    "id": "tjyjaQ79H4UD"
   },
   "outputs": [],
   "source": [
    "lin_hotels = Hotels[['Log_price', 'beds_log','rating_Boxcox', 'number_of_ratings_Boxcox', 'Size_m2']]\n"
   ]
  },
  {
   "cell_type": "code",
   "execution_count": null,
   "metadata": {
    "id": "b5u67ASkg0C4"
   },
   "outputs": [],
   "source": [
    "x1 =  Hotels[['Log_price','price', 'beds','rating', 'number_of_ratings', 'Size_m2']]# only int and float selectors"
   ]
  },
  {
   "cell_type": "code",
   "execution_count": null,
   "metadata": {
    "colab": {
     "base_uri": "https://localhost:8080/",
     "height": 1000
    },
    "id": "w_L61ERXFGam",
    "outputId": "9248a6f3-b929-449f-cf24-d38a78729887"
   },
   "outputs": [
    {
     "data": {
      "text/plain": [
       "<seaborn.axisgrid.PairGrid at 0x7f0869506110>"
      ]
     },
     "execution_count": 24,
     "metadata": {},
     "output_type": "execute_result"
    },
    {
     "data": {
      "image/png": "[encoded data removed]",
      "text/plain": [
       "<Figure size 1080x1080 with 42 Axes>"
      ]
     },
     "metadata": {
      "needs_background": "light"
     },
     "output_type": "display_data"
    }
   ],
   "source": [
    "sns.pairplot(x1)"
   ]
  },
  {
   "cell_type": "code",
   "execution_count": null,
   "metadata": {
    "colab": {
     "base_uri": "https://localhost:8080/",
     "height": 235
    },
    "id": "QOs9FjHWhxOl",
    "outputId": "2a9c6388-7dab-45f3-e632-c110b3f61271"
   },
   "outputs": [
    {
     "data": {
      "text/html": [
       "<div>\n",
       "<style scoped>\n",
       "    .dataframe tbody tr th:only-of-type {\n",
       "        vertical-align: middle;\n",
       "    }\n",
       "\n",
       "    .dataframe tbody tr th {\n",
       "        vertical-align: top;\n",
       "    }\n",
       "\n",
       "    .dataframe thead th {\n",
       "        text-align: right;\n",
       "    }\n",
       "</style>\n",
       "<table border=\"1\" class=\"dataframe\">\n",
       "  <thead>\n",
       "    <tr style=\"text-align: right;\">\n",
       "      <th></th>\n",
       "      <th>Log_price</th>\n",
       "      <th>price</th>\n",
       "      <th>beds</th>\n",
       "      <th>rating</th>\n",
       "      <th>number_of_ratings</th>\n",
       "      <th>Size_m2</th>\n",
       "    </tr>\n",
       "  </thead>\n",
       "  <tbody>\n",
       "    <tr>\n",
       "      <th>Log_price</th>\n",
       "      <td>1.000000</td>\n",
       "      <td>0.839812</td>\n",
       "      <td>0.210962</td>\n",
       "      <td>0.290134</td>\n",
       "      <td>0.177912</td>\n",
       "      <td>0.127142</td>\n",
       "    </tr>\n",
       "    <tr>\n",
       "      <th>price</th>\n",
       "      <td>0.839812</td>\n",
       "      <td>1.000000</td>\n",
       "      <td>0.327643</td>\n",
       "      <td>0.138060</td>\n",
       "      <td>0.096067</td>\n",
       "      <td>0.106590</td>\n",
       "    </tr>\n",
       "    <tr>\n",
       "      <th>beds</th>\n",
       "      <td>0.210962</td>\n",
       "      <td>0.327643</td>\n",
       "      <td>1.000000</td>\n",
       "      <td>-0.067222</td>\n",
       "      <td>-0.086818</td>\n",
       "      <td>0.394480</td>\n",
       "    </tr>\n",
       "    <tr>\n",
       "      <th>rating</th>\n",
       "      <td>0.290134</td>\n",
       "      <td>0.138060</td>\n",
       "      <td>-0.067222</td>\n",
       "      <td>1.000000</td>\n",
       "      <td>0.143199</td>\n",
       "      <td>-0.048904</td>\n",
       "    </tr>\n",
       "    <tr>\n",
       "      <th>number_of_ratings</th>\n",
       "      <td>0.177912</td>\n",
       "      <td>0.096067</td>\n",
       "      <td>-0.086818</td>\n",
       "      <td>0.143199</td>\n",
       "      <td>1.000000</td>\n",
       "      <td>-0.079989</td>\n",
       "    </tr>\n",
       "    <tr>\n",
       "      <th>Size_m2</th>\n",
       "      <td>0.127142</td>\n",
       "      <td>0.106590</td>\n",
       "      <td>0.394480</td>\n",
       "      <td>-0.048904</td>\n",
       "      <td>-0.079989</td>\n",
       "      <td>1.000000</td>\n",
       "    </tr>\n",
       "  </tbody>\n",
       "</table>\n",
       "</div>"
      ],
      "text/plain": [
       "                   Log_price     price  ...  number_of_ratings   Size_m2\n",
       "Log_price           1.000000  0.839812  ...           0.177912  0.127142\n",
       "price               0.839812  1.000000  ...           0.096067  0.106590\n",
       "beds                0.210962  0.327643  ...          -0.086818  0.394480\n",
       "rating              0.290134  0.138060  ...           0.143199 -0.048904\n",
       "number_of_ratings   0.177912  0.096067  ...           1.000000 -0.079989\n",
       "Size_m2             0.127142  0.106590  ...          -0.079989  1.000000\n",
       "\n",
       "[6 rows x 6 columns]"
      ]
     },
     "execution_count": 25,
     "metadata": {},
     "output_type": "execute_result"
    }
   ],
   "source": [
    "cor2 = x1.corr()\n",
    "cor2"
   ]
  },
  {
   "cell_type": "code",
   "execution_count": null,
   "metadata": {
    "id": "-2IJFWIcJARa"
   },
   "outputs": [],
   "source": [
    "corrT = lin_hotels.corr()\n"
   ]
  },
  {
   "cell_type": "code",
   "execution_count": null,
   "metadata": {
    "colab": {
     "base_uri": "https://localhost:8080/",
     "height": 558
    },
    "id": "asLLE5t4hxb3",
    "outputId": "95c9ba35-8009-404d-ca5d-ffb958a4ba4a"
   },
   "outputs": [
    {
     "data": {
      "text/plain": [
       "<matplotlib.axes._subplots.AxesSubplot at 0x7f085fddb5d0>"
      ]
     },
     "execution_count": 27,
     "metadata": {},
     "output_type": "execute_result"
    },
    {
     "data": {
      "image/png": "[encoded data removed]",
      "text/plain": [
       "<Figure size 792x648 with 2 Axes>"
      ]
     },
     "metadata": {},
     "output_type": "display_data"
    }
   ],
   "source": [
    "from string import ascii_letters\n",
    "import numpy as np\n",
    "import pandas as pd\n",
    "import seaborn as sns\n",
    "import matplotlib.pyplot as plt\n",
    "\n",
    "sns.set_theme(style=\"white\")\n",
    "\n",
    "\n",
    "# Compute the correlation matrix\n",
    "\n",
    "\n",
    "# Generate a mask for the upper triangle\n",
    "mask = np.triu(np.ones_like(cor2, dtype=bool))\n",
    "\n",
    "# Set up the matplotlib figure\n",
    "f, ax = plt.subplots(figsize=(11, 9))\n",
    "\n",
    "# Generate a custom diverging colormap\n",
    "cmap = sns.diverging_palette(230, 20, as_cmap=True )\n",
    "\n",
    "# Draw the heatmap with the mask and correct aspect ratio\n",
    "sns.heatmap(cor2, mask=mask, cmap=cmap, vmax=.3, center=0,\n",
    "            square=True, linewidths=.5, cbar_kws={\"shrink\": .5}, annot=True)"
   ]
  },
  {
   "cell_type": "code",
   "execution_count": null,
   "metadata": {
    "colab": {
     "base_uri": "https://localhost:8080/",
     "height": 534
    },
    "id": "vVh704fOLTKM",
    "outputId": "3ae94e1f-e136-409b-b035-14bd0b47f02b"
   },
   "outputs": [
    {
     "data": {
      "text/html": [
       "<div>\n",
       "<style scoped>\n",
       "    .dataframe tbody tr th:only-of-type {\n",
       "        vertical-align: middle;\n",
       "    }\n",
       "\n",
       "    .dataframe tbody tr th {\n",
       "        vertical-align: top;\n",
       "    }\n",
       "\n",
       "    .dataframe thead th {\n",
       "        text-align: right;\n",
       "    }\n",
       "</style>\n",
       "<table border=\"1\" class=\"dataframe\">\n",
       "  <thead>\n",
       "    <tr style=\"text-align: right;\">\n",
       "      <th></th>\n",
       "      <th>price</th>\n",
       "      <th>beds</th>\n",
       "      <th>rating</th>\n",
       "      <th>number_of_ratings</th>\n",
       "      <th>per_night</th>\n",
       "      <th>Log_number_of_ratings</th>\n",
       "      <th>Log_price</th>\n",
       "      <th>Size_m2</th>\n",
       "      <th>beds_log</th>\n",
       "      <th>beds_Boxcox</th>\n",
       "      <th>beds_boxcox^2</th>\n",
       "      <th>rating_Boxcox</th>\n",
       "      <th>number_of_ratings_Boxcox</th>\n",
       "      <th>Size_m2_log</th>\n",
       "      <th>Size_m2_Boxcox</th>\n",
       "    </tr>\n",
       "  </thead>\n",
       "  <tbody>\n",
       "    <tr>\n",
       "      <th>price</th>\n",
       "      <td>1.000000</td>\n",
       "      <td>0.327643</td>\n",
       "      <td>0.138060</td>\n",
       "      <td>0.096067</td>\n",
       "      <td>NaN</td>\n",
       "      <td>0.034530</td>\n",
       "      <td>0.839812</td>\n",
       "      <td>0.106590</td>\n",
       "      <td>0.244846</td>\n",
       "      <td>0.152300</td>\n",
       "      <td>0.155036</td>\n",
       "      <td>0.247570</td>\n",
       "      <td>0.034319</td>\n",
       "      <td>0.092368</td>\n",
       "      <td>0.022608</td>\n",
       "    </tr>\n",
       "    <tr>\n",
       "      <th>beds</th>\n",
       "      <td>0.327643</td>\n",
       "      <td>1.000000</td>\n",
       "      <td>-0.067222</td>\n",
       "      <td>-0.086818</td>\n",
       "      <td>NaN</td>\n",
       "      <td>-0.247432</td>\n",
       "      <td>0.210962</td>\n",
       "      <td>0.394480</td>\n",
       "      <td>0.931813</td>\n",
       "      <td>0.795441</td>\n",
       "      <td>0.800033</td>\n",
       "      <td>-0.020712</td>\n",
       "      <td>-0.235210</td>\n",
       "      <td>0.432169</td>\n",
       "      <td>0.299912</td>\n",
       "    </tr>\n",
       "    <tr>\n",
       "      <th>rating</th>\n",
       "      <td>0.138060</td>\n",
       "      <td>-0.067222</td>\n",
       "      <td>1.000000</td>\n",
       "      <td>0.143199</td>\n",
       "      <td>NaN</td>\n",
       "      <td>0.116242</td>\n",
       "      <td>0.290134</td>\n",
       "      <td>-0.048904</td>\n",
       "      <td>-0.093441</td>\n",
       "      <td>-0.099358</td>\n",
       "      <td>-0.099521</td>\n",
       "      <td>0.906498</td>\n",
       "      <td>0.406877</td>\n",
       "      <td>-0.078519</td>\n",
       "      <td>-0.070277</td>\n",
       "    </tr>\n",
       "    <tr>\n",
       "      <th>number_of_ratings</th>\n",
       "      <td>0.096067</td>\n",
       "      <td>-0.086818</td>\n",
       "      <td>0.143199</td>\n",
       "      <td>1.000000</td>\n",
       "      <td>NaN</td>\n",
       "      <td>0.624482</td>\n",
       "      <td>0.177912</td>\n",
       "      <td>-0.079989</td>\n",
       "      <td>-0.072717</td>\n",
       "      <td>-0.048222</td>\n",
       "      <td>-0.049214</td>\n",
       "      <td>0.125975</td>\n",
       "      <td>0.693334</td>\n",
       "      <td>-0.089552</td>\n",
       "      <td>-0.065065</td>\n",
       "    </tr>\n",
       "    <tr>\n",
       "      <th>per_night</th>\n",
       "      <td>NaN</td>\n",
       "      <td>NaN</td>\n",
       "      <td>NaN</td>\n",
       "      <td>NaN</td>\n",
       "      <td>NaN</td>\n",
       "      <td>NaN</td>\n",
       "      <td>NaN</td>\n",
       "      <td>NaN</td>\n",
       "      <td>NaN</td>\n",
       "      <td>NaN</td>\n",
       "      <td>NaN</td>\n",
       "      <td>NaN</td>\n",
       "      <td>NaN</td>\n",
       "      <td>NaN</td>\n",
       "      <td>NaN</td>\n",
       "    </tr>\n",
       "    <tr>\n",
       "      <th>Log_number_of_ratings</th>\n",
       "      <td>0.034530</td>\n",
       "      <td>-0.247432</td>\n",
       "      <td>0.116242</td>\n",
       "      <td>0.624482</td>\n",
       "      <td>NaN</td>\n",
       "      <td>1.000000</td>\n",
       "      <td>0.159810</td>\n",
       "      <td>-0.180774</td>\n",
       "      <td>-0.236448</td>\n",
       "      <td>-0.199789</td>\n",
       "      <td>-0.201130</td>\n",
       "      <td>0.073554</td>\n",
       "      <td>0.985840</td>\n",
       "      <td>-0.189730</td>\n",
       "      <td>-0.135076</td>\n",
       "    </tr>\n",
       "    <tr>\n",
       "      <th>Log_price</th>\n",
       "      <td>0.839812</td>\n",
       "      <td>0.210962</td>\n",
       "      <td>0.290134</td>\n",
       "      <td>0.177912</td>\n",
       "      <td>NaN</td>\n",
       "      <td>0.159810</td>\n",
       "      <td>1.000000</td>\n",
       "      <td>0.127142</td>\n",
       "      <td>0.132553</td>\n",
       "      <td>0.051838</td>\n",
       "      <td>0.054248</td>\n",
       "      <td>0.429389</td>\n",
       "      <td>0.164926</td>\n",
       "      <td>0.114335</td>\n",
       "      <td>0.045821</td>\n",
       "    </tr>\n",
       "    <tr>\n",
       "      <th>Size_m2</th>\n",
       "      <td>0.106590</td>\n",
       "      <td>0.394480</td>\n",
       "      <td>-0.048904</td>\n",
       "      <td>-0.079989</td>\n",
       "      <td>NaN</td>\n",
       "      <td>-0.180774</td>\n",
       "      <td>0.127142</td>\n",
       "      <td>1.000000</td>\n",
       "      <td>0.361621</td>\n",
       "      <td>0.281981</td>\n",
       "      <td>0.284983</td>\n",
       "      <td>0.004658</td>\n",
       "      <td>-0.184724</td>\n",
       "      <td>0.914971</td>\n",
       "      <td>0.621932</td>\n",
       "    </tr>\n",
       "    <tr>\n",
       "      <th>beds_log</th>\n",
       "      <td>0.244846</td>\n",
       "      <td>0.931813</td>\n",
       "      <td>-0.093441</td>\n",
       "      <td>-0.072717</td>\n",
       "      <td>NaN</td>\n",
       "      <td>-0.236448</td>\n",
       "      <td>0.132553</td>\n",
       "      <td>0.361621</td>\n",
       "      <td>1.000000</td>\n",
       "      <td>0.957082</td>\n",
       "      <td>0.959571</td>\n",
       "      <td>-0.053168</td>\n",
       "      <td>-0.227725</td>\n",
       "      <td>0.406619</td>\n",
       "      <td>0.302899</td>\n",
       "    </tr>\n",
       "    <tr>\n",
       "      <th>beds_Boxcox</th>\n",
       "      <td>0.152300</td>\n",
       "      <td>0.795441</td>\n",
       "      <td>-0.099358</td>\n",
       "      <td>-0.048222</td>\n",
       "      <td>NaN</td>\n",
       "      <td>-0.199789</td>\n",
       "      <td>0.051838</td>\n",
       "      <td>0.281981</td>\n",
       "      <td>0.957082</td>\n",
       "      <td>1.000000</td>\n",
       "      <td>0.999954</td>\n",
       "      <td>-0.069016</td>\n",
       "      <td>-0.193199</td>\n",
       "      <td>0.326036</td>\n",
       "      <td>0.261574</td>\n",
       "    </tr>\n",
       "    <tr>\n",
       "      <th>beds_boxcox^2</th>\n",
       "      <td>0.155036</td>\n",
       "      <td>0.800033</td>\n",
       "      <td>-0.099521</td>\n",
       "      <td>-0.049214</td>\n",
       "      <td>NaN</td>\n",
       "      <td>-0.201130</td>\n",
       "      <td>0.054248</td>\n",
       "      <td>0.284983</td>\n",
       "      <td>0.959571</td>\n",
       "      <td>0.999954</td>\n",
       "      <td>1.000000</td>\n",
       "      <td>-0.068844</td>\n",
       "      <td>-0.194581</td>\n",
       "      <td>0.329193</td>\n",
       "      <td>0.263486</td>\n",
       "    </tr>\n",
       "    <tr>\n",
       "      <th>rating_Boxcox</th>\n",
       "      <td>0.247570</td>\n",
       "      <td>-0.020712</td>\n",
       "      <td>0.906498</td>\n",
       "      <td>0.125975</td>\n",
       "      <td>NaN</td>\n",
       "      <td>0.073554</td>\n",
       "      <td>0.429389</td>\n",
       "      <td>0.004658</td>\n",
       "      <td>-0.053168</td>\n",
       "      <td>-0.069016</td>\n",
       "      <td>-0.068844</td>\n",
       "      <td>1.000000</td>\n",
       "      <td>0.277301</td>\n",
       "      <td>-0.027313</td>\n",
       "      <td>-0.041948</td>\n",
       "    </tr>\n",
       "    <tr>\n",
       "      <th>number_of_ratings_Boxcox</th>\n",
       "      <td>0.034319</td>\n",
       "      <td>-0.235210</td>\n",
       "      <td>0.406877</td>\n",
       "      <td>0.693334</td>\n",
       "      <td>NaN</td>\n",
       "      <td>0.985840</td>\n",
       "      <td>0.164926</td>\n",
       "      <td>-0.184724</td>\n",
       "      <td>-0.227725</td>\n",
       "      <td>-0.193199</td>\n",
       "      <td>-0.194581</td>\n",
       "      <td>0.277301</td>\n",
       "      <td>1.000000</td>\n",
       "      <td>-0.202302</td>\n",
       "      <td>-0.149471</td>\n",
       "    </tr>\n",
       "    <tr>\n",
       "      <th>Size_m2_log</th>\n",
       "      <td>0.092368</td>\n",
       "      <td>0.432169</td>\n",
       "      <td>-0.078519</td>\n",
       "      <td>-0.089552</td>\n",
       "      <td>NaN</td>\n",
       "      <td>-0.189730</td>\n",
       "      <td>0.114335</td>\n",
       "      <td>0.914971</td>\n",
       "      <td>0.406619</td>\n",
       "      <td>0.326036</td>\n",
       "      <td>0.329193</td>\n",
       "      <td>-0.027313</td>\n",
       "      <td>-0.202302</td>\n",
       "      <td>1.000000</td>\n",
       "      <td>0.855008</td>\n",
       "    </tr>\n",
       "    <tr>\n",
       "      <th>Size_m2_Boxcox</th>\n",
       "      <td>0.022608</td>\n",
       "      <td>0.299912</td>\n",
       "      <td>-0.070277</td>\n",
       "      <td>-0.065065</td>\n",
       "      <td>NaN</td>\n",
       "      <td>-0.135076</td>\n",
       "      <td>0.045821</td>\n",
       "      <td>0.621932</td>\n",
       "      <td>0.302899</td>\n",
       "      <td>0.261574</td>\n",
       "      <td>0.263486</td>\n",
       "      <td>-0.041948</td>\n",
       "      <td>-0.149471</td>\n",
       "      <td>0.855008</td>\n",
       "      <td>1.000000</td>\n",
       "    </tr>\n",
       "  </tbody>\n",
       "</table>\n",
       "</div>"
      ],
      "text/plain": [
       "                             price      beds  ...  Size_m2_log  Size_m2_Boxcox\n",
       "price                     1.000000  0.327643  ...     0.092368        0.022608\n",
       "beds                      0.327643  1.000000  ...     0.432169        0.299912\n",
       "rating                    0.138060 -0.067222  ...    -0.078519       -0.070277\n",
       "number_of_ratings         0.096067 -0.086818  ...    -0.089552       -0.065065\n",
       "per_night                      NaN       NaN  ...          NaN             NaN\n",
       "Log_number_of_ratings     0.034530 -0.247432  ...    -0.189730       -0.135076\n",
       "Log_price                 0.839812  0.210962  ...     0.114335        0.045821\n",
       "Size_m2                   0.106590  0.394480  ...     0.914971        0.621932\n",
       "beds_log                  0.244846  0.931813  ...     0.406619        0.302899\n",
       "beds_Boxcox               0.152300  0.795441  ...     0.326036        0.261574\n",
       "beds_boxcox^2             0.155036  0.800033  ...     0.329193        0.263486\n",
       "rating_Boxcox             0.247570 -0.020712  ...    -0.027313       -0.041948\n",
       "number_of_ratings_Boxcox  0.034319 -0.235210  ...    -0.202302       -0.149471\n",
       "Size_m2_log               0.092368  0.432169  ...     1.000000        0.855008\n",
       "Size_m2_Boxcox            0.022608  0.299912  ...     0.855008        1.000000\n",
       "\n",
       "[15 rows x 15 columns]"
      ]
     },
     "execution_count": 28,
     "metadata": {},
     "output_type": "execute_result"
    }
   ],
   "source": [
    "corrn = Hotels.corr()\n",
    "corrn\n"
   ]
  },
  {
   "cell_type": "code",
   "execution_count": null,
   "metadata": {
    "id": "YFWlE3NHDG-G"
   },
   "outputs": [],
   "source": []
  },
  {
   "cell_type": "code",
   "execution_count": null,
   "metadata": {
    "colab": {
     "base_uri": "https://localhost:8080/",
     "height": 204
    },
    "id": "8yFubLH4Kkgq",
    "outputId": "6797c368-7efb-4c81-e871-17aec33f2cfe"
   },
   "outputs": [
    {
     "data": {
      "text/html": [
       "<div>\n",
       "<style scoped>\n",
       "    .dataframe tbody tr th:only-of-type {\n",
       "        vertical-align: middle;\n",
       "    }\n",
       "\n",
       "    .dataframe tbody tr th {\n",
       "        vertical-align: top;\n",
       "    }\n",
       "\n",
       "    .dataframe thead th {\n",
       "        text-align: right;\n",
       "    }\n",
       "</style>\n",
       "<table border=\"1\" class=\"dataframe\">\n",
       "  <thead>\n",
       "    <tr style=\"text-align: right;\">\n",
       "      <th></th>\n",
       "      <th>Log_price</th>\n",
       "      <th>beds_log</th>\n",
       "      <th>rating_Boxcox</th>\n",
       "      <th>number_of_ratings_Boxcox</th>\n",
       "      <th>Size_m2</th>\n",
       "    </tr>\n",
       "  </thead>\n",
       "  <tbody>\n",
       "    <tr>\n",
       "      <th>Log_price</th>\n",
       "      <td>1.000000</td>\n",
       "      <td>0.132553</td>\n",
       "      <td>0.429389</td>\n",
       "      <td>0.164926</td>\n",
       "      <td>0.127142</td>\n",
       "    </tr>\n",
       "    <tr>\n",
       "      <th>beds_log</th>\n",
       "      <td>0.132553</td>\n",
       "      <td>1.000000</td>\n",
       "      <td>-0.053168</td>\n",
       "      <td>-0.227725</td>\n",
       "      <td>0.361621</td>\n",
       "    </tr>\n",
       "    <tr>\n",
       "      <th>rating_Boxcox</th>\n",
       "      <td>0.429389</td>\n",
       "      <td>-0.053168</td>\n",
       "      <td>1.000000</td>\n",
       "      <td>0.277301</td>\n",
       "      <td>0.004658</td>\n",
       "    </tr>\n",
       "    <tr>\n",
       "      <th>number_of_ratings_Boxcox</th>\n",
       "      <td>0.164926</td>\n",
       "      <td>-0.227725</td>\n",
       "      <td>0.277301</td>\n",
       "      <td>1.000000</td>\n",
       "      <td>-0.184724</td>\n",
       "    </tr>\n",
       "    <tr>\n",
       "      <th>Size_m2</th>\n",
       "      <td>0.127142</td>\n",
       "      <td>0.361621</td>\n",
       "      <td>0.004658</td>\n",
       "      <td>-0.184724</td>\n",
       "      <td>1.000000</td>\n",
       "    </tr>\n",
       "  </tbody>\n",
       "</table>\n",
       "</div>"
      ],
      "text/plain": [
       "                          Log_price  ...   Size_m2\n",
       "Log_price                  1.000000  ...  0.127142\n",
       "beds_log                   0.132553  ...  0.361621\n",
       "rating_Boxcox              0.429389  ...  0.004658\n",
       "number_of_ratings_Boxcox   0.164926  ... -0.184724\n",
       "Size_m2                    0.127142  ...  1.000000\n",
       "\n",
       "[5 rows x 5 columns]"
      ]
     },
     "execution_count": 29,
     "metadata": {},
     "output_type": "execute_result"
    }
   ],
   "source": [
    "corrT"
   ]
  },
  {
   "cell_type": "markdown",
   "metadata": {
    "id": "6kErLtdxLqoj"
   },
   "source": [
    "we can see the correlation is stronger for transfromed variables:\n",
    "for multiple linear regression model we "
   ]
  },
  {
   "cell_type": "code",
   "execution_count": null,
   "metadata": {
    "colab": {
     "base_uri": "https://localhost:8080/",
     "height": 558
    },
    "id": "I9MIwnJk3gmk",
    "outputId": "c9a6e607-c297-48ab-954f-b17fcce31f6b"
   },
   "outputs": [
    {
     "data": {
      "text/plain": [
       "<matplotlib.axes._subplots.AxesSubplot at 0x7f085e3e0ed0>"
      ]
     },
     "execution_count": 30,
     "metadata": {},
     "output_type": "execute_result"
    },
    {
     "data": {
      "image/png": "[encoded data removed]",
      "text/plain": [
       "<Figure size 792x648 with 2 Axes>"
      ]
     },
     "metadata": {},
     "output_type": "display_data"
    }
   ],
   "source": [
    "from string import ascii_letters\n",
    "import numpy as np\n",
    "import pandas as pd\n",
    "import seaborn as sns\n",
    "import matplotlib.pyplot as plt\n",
    "\n",
    "sns.set_theme(style=\"white\")\n",
    "\n",
    "\n",
    "# Compute the correlation matrix\n",
    "\n",
    "\n",
    "# Generate a mask for the upper triangle\n",
    "mask = np.triu(np.ones_like(cor2, dtype=bool))\n",
    "\n",
    "# Set up the matplotlib figure\n",
    "f, ax = plt.subplots(figsize=(11, 9))\n",
    "\n",
    "# Generate a custom diverging colormap\n",
    "cmap = sns.diverging_palette(230, 20, as_cmap=True )\n",
    "\n",
    "# Draw the heatmap with the mask and correct aspect ratio\n",
    "sns.heatmap(cor2, mask=mask, cmap=cmap, vmax=.3, center=0,\n",
    "            square=True, linewidths=.5, cbar_kws={\"shrink\": .5}, annot=True)"
   ]
  },
  {
   "cell_type": "markdown",
   "metadata": {
    "id": "HP03BkkyNyMA"
   },
   "source": [
    "### Splitting data for testing, validating and traing\n",
    "20% test 25% val 55% train"
   ]
  },
  {
   "cell_type": "code",
   "execution_count": null,
   "metadata": {
    "id": "I0rIUxtkOEfJ"
   },
   "outputs": [],
   "source": [
    "from sklearn.model_selection import train_test_split\n",
    "\n",
    "X_real, X_test, y_real, y_test = train_test_split(Hotels[['beds','rating', 'number_of_ratings']], Hotels['price'], test_size=0.2, random_state=40)\n",
    "X_train, X_val, y_train, y_val = train_test_split(X_real, y_real, test_size=0.25, random_state=40)"
   ]
  },
  {
   "cell_type": "code",
   "execution_count": null,
   "metadata": {
    "id": "e5NWxR5ENujs"
   },
   "outputs": [],
   "source": [
    "from sklearn.preprocessing import StandardScaler\n",
    "\n",
    "scaler=StandardScaler()\n",
    "X_train_scaled=scaler.fit_transform(X_train)\n",
    "X_test_scaled=scaler.transform(X_test)\n"
   ]
  },
  {
   "cell_type": "code",
   "execution_count": null,
   "metadata": {
    "colab": {
     "base_uri": "https://localhost:8080/",
     "height": 232
    },
    "id": "VBXmvBUZNujs",
    "outputId": "4d8647fa-fcfa-4fb9-a135-4de950105695"
   },
   "outputs": [
    {
     "ename": "NameError",
     "evalue": "ignored",
     "output_type": "error",
     "traceback": [
      "\u001b[0;31m---------------------------------------------------------------------------\u001b[0m",
      "\u001b[0;31mNameError\u001b[0m                                 Traceback (most recent call last)",
      "\u001b[0;32m<ipython-input-33-1eae4dd10ec7>\u001b[0m in \u001b[0;36m<module>\u001b[0;34m()\u001b[0m\n\u001b[0;32m----> 1\u001b[0;31m \u001b[0mscaler\u001b[0m \u001b[0;34m=\u001b[0m \u001b[0mRobustScaler\u001b[0m\u001b[0;34m(\u001b[0m\u001b[0;34m)\u001b[0m\u001b[0;34m\u001b[0m\u001b[0;34m\u001b[0m\u001b[0m\n\u001b[0m\u001b[1;32m      2\u001b[0m \u001b[0;34m\u001b[0m\u001b[0m\n\u001b[1;32m      3\u001b[0m \u001b[0mX_train_poly_scaled\u001b[0m \u001b[0;34m=\u001b[0m \u001b[0mscaler\u001b[0m\u001b[0;34m.\u001b[0m\u001b[0mfit_transform\u001b[0m\u001b[0;34m(\u001b[0m\u001b[0mX_train_poly\u001b[0m\u001b[0;34m)\u001b[0m\u001b[0;34m\u001b[0m\u001b[0;34m\u001b[0m\u001b[0m\n\u001b[1;32m      4\u001b[0m \u001b[0;34m\u001b[0m\u001b[0m\n\u001b[1;32m      5\u001b[0m \u001b[0mX_val_poly_scaled\u001b[0m \u001b[0;34m=\u001b[0m \u001b[0mscaler\u001b[0m\u001b[0;34m.\u001b[0m\u001b[0mtransform\u001b[0m\u001b[0;34m(\u001b[0m\u001b[0mX_val_poly\u001b[0m\u001b[0;34m)\u001b[0m\u001b[0;34m\u001b[0m\u001b[0;34m\u001b[0m\u001b[0m\n",
      "\u001b[0;31mNameError\u001b[0m: name 'RobustScaler' is not defined"
     ]
    }
   ],
   "source": [
    "scaler = RobustScaler()\n",
    "\n",
    "X_train_poly_scaled = scaler.fit_transform(X_train_poly)\n",
    "\n",
    "X_val_poly_scaled = scaler.transform(X_val_poly)"
   ]
  },
  {
   "cell_type": "markdown",
   "metadata": {
    "id": "IUh33RBA5rxs"
   },
   "source": [
    "# Models\n",
    "\n",
    "\n",
    "*   Multiple Linear Regression \n",
    "*   Polynomial Regression (with multiple scailing)\n",
    "*   Random Forest Regrssor\n",
    "*   Decision Tree Regressor \n",
    "*   Pipelining a combonation of models\n",
    "\n",
    "\n",
    "\n",
    "\n",
    "## Regularization on top\n",
    "\n",
    "\n",
    "*   Ridge Regularization \n",
    "*   Lasso Regularization\n",
    "*   Elastic net Regularization\n",
    "\n",
    "\n",
    "\n",
    "## Parameter Tuning \n",
    "\n",
    "\n",
    "*   Train test split\n",
    "*   Cross validation\n",
    "*   Kfold \n",
    "*   Grid search for Hyper Parameters\n",
    "*   Randomized search for Hyper Parameters \n",
    "\n",
    "then I check outlier influence and mulicollinearity using VIF\n",
    "\n"
   ]
  },
  {
   "cell_type": "markdown",
   "metadata": {
    "id": "LxWnbt-hNujs"
   },
   "source": [
    "## Muliple Linear Regression Model"
   ]
  },
  {
   "cell_type": "code",
   "execution_count": null,
   "metadata": {
    "id": "69vFKm1U1oFQ"
   },
   "outputs": [],
   "source": [
    "from sklearn.linear_model import LinearRegression\n"
   ]
  },
  {
   "cell_type": "markdown",
   "metadata": {
    "id": "o3z1ZzMKgF2Q"
   },
   "source": [
    "### Model 1 :with no transformations\n",
    "\n"
   ]
  },
  {
   "cell_type": "code",
   "execution_count": null,
   "metadata": {
    "colab": {
     "base_uri": "https://localhost:8080/",
     "height": 236
    },
    "id": "iY5aBydXM_4v",
    "outputId": "c6b57f65-0f8c-45b2-a639-6bda3ea342ae"
   },
   "outputs": [
    {
     "ename": "NameError",
     "evalue": "ignored",
     "output_type": "error",
     "traceback": [
      "\u001b[0;31m---------------------------------------------------------------------------\u001b[0m",
      "\u001b[0;31mNameError\u001b[0m                                 Traceback (most recent call last)",
      "\u001b[0;32m<ipython-input-2-c65972d21f4d>\u001b[0m in \u001b[0;36m<module>\u001b[0;34m()\u001b[0m\n\u001b[1;32m      1\u001b[0m \u001b[0;32mfrom\u001b[0m \u001b[0msklearn\u001b[0m\u001b[0;34m.\u001b[0m\u001b[0mmodel_selection\u001b[0m \u001b[0;32mimport\u001b[0m \u001b[0mtrain_test_split\u001b[0m\u001b[0;34m\u001b[0m\u001b[0;34m\u001b[0m\u001b[0m\n\u001b[1;32m      2\u001b[0m \u001b[0;34m\u001b[0m\u001b[0m\n\u001b[0;32m----> 3\u001b[0;31m \u001b[0mX_real\u001b[0m\u001b[0;34m,\u001b[0m \u001b[0mX_test\u001b[0m\u001b[0;34m,\u001b[0m \u001b[0my_real\u001b[0m\u001b[0;34m,\u001b[0m \u001b[0my_test\u001b[0m \u001b[0;34m=\u001b[0m \u001b[0mtrain_test_split\u001b[0m\u001b[0;34m(\u001b[0m\u001b[0mHotels\u001b[0m\u001b[0;34m[\u001b[0m\u001b[0;34m[\u001b[0m\u001b[0;34m'beds'\u001b[0m\u001b[0;34m,\u001b[0m\u001b[0;34m'rating'\u001b[0m\u001b[0;34m,\u001b[0m \u001b[0;34m'number_of_ratings'\u001b[0m\u001b[0;34m,\u001b[0m\u001b[0;34m'Size_m2'\u001b[0m\u001b[0;34m]\u001b[0m\u001b[0;34m]\u001b[0m\u001b[0;34m,\u001b[0m \u001b[0mHotels\u001b[0m\u001b[0;34m[\u001b[0m\u001b[0;34m'price'\u001b[0m\u001b[0;34m]\u001b[0m\u001b[0;34m,\u001b[0m \u001b[0mtest_size\u001b[0m\u001b[0;34m=\u001b[0m\u001b[0;36m0.2\u001b[0m\u001b[0;34m,\u001b[0m \u001b[0mrandom_state\u001b[0m\u001b[0;34m=\u001b[0m\u001b[0;36m40\u001b[0m\u001b[0;34m)\u001b[0m\u001b[0;34m\u001b[0m\u001b[0;34m\u001b[0m\u001b[0m\n\u001b[0m\u001b[1;32m      4\u001b[0m \u001b[0mX_train\u001b[0m\u001b[0;34m,\u001b[0m \u001b[0mX_val\u001b[0m\u001b[0;34m,\u001b[0m \u001b[0my_train\u001b[0m\u001b[0;34m,\u001b[0m \u001b[0my_val\u001b[0m \u001b[0;34m=\u001b[0m \u001b[0mtrain_test_split\u001b[0m\u001b[0;34m(\u001b[0m\u001b[0mX_real\u001b[0m\u001b[0;34m,\u001b[0m \u001b[0my_real\u001b[0m\u001b[0;34m,\u001b[0m \u001b[0mtest_size\u001b[0m\u001b[0;34m=\u001b[0m\u001b[0;36m0.25\u001b[0m\u001b[0;34m,\u001b[0m \u001b[0mrandom_state\u001b[0m\u001b[0;34m=\u001b[0m\u001b[0;36m40\u001b[0m\u001b[0;34m)\u001b[0m\u001b[0;34m\u001b[0m\u001b[0;34m\u001b[0m\u001b[0m\n",
      "\u001b[0;31mNameError\u001b[0m: name 'Hotels' is not defined"
     ]
    }
   ],
   "source": [
    "from sklearn.model_selection import train_test_split\n",
    "\n",
    "X_real, X_test, y_real, y_test = train_test_split(Hotels[['beds','rating', 'number_of_ratings','Size_m2']], Hotels['price'], test_size=0.2, random_state=40)\n",
    "X_train, X_val, y_train, y_val = train_test_split(X_real, y_real, test_size=0.25, random_state=40)"
   ]
  },
  {
   "cell_type": "code",
   "execution_count": null,
   "metadata": {
    "id": "B7hYnwfmNK8L"
   },
   "outputs": [],
   "source": [
    "scaler = RobustScaler()\n",
    "\n",
    "X_train_lm_scaled = scaler.fit_transform(X_train)\n",
    "\n",
    "X_val_lm_scaled = scaler.transform(X_val)"
   ]
  },
  {
   "cell_type": "code",
   "execution_count": null,
   "metadata": {
    "id": "ixCoP9GwNujt"
   },
   "outputs": [],
   "source": [
    "model = LinearRegression()\n",
    "model.fit(X_train_lm_scaled, y_train)\n",
    "model.score(X_train_lm_scaled, y_train)"
   ]
  },
  {
   "cell_type": "code",
   "execution_count": null,
   "metadata": {
    "id": "Zj2rY3ww2Mvw"
   },
   "outputs": [],
   "source": [
    "model.score(X_val_lm_scaled, y_val)"
   ]
  },
  {
   "cell_type": "markdown",
   "metadata": {
    "id": "R0VClPlogMxP"
   },
   "source": [
    "### Model 2 : the combonation of price, beds, rating box-cox, number of rating and size\n",
    "\n"
   ]
  },
  {
   "cell_type": "code",
   "execution_count": null,
   "metadata": {
    "id": "MBroLNFoNujt"
   },
   "outputs": [],
   "source": [
    "X_real, X_test, y_real, y_test = train_test_split(Hotels[['beds','rating_Boxcox', 'number_of_ratings','Size_m2']], Hotels['price'], test_size=0.2, random_state=40)\n",
    "X_train, X_val, y_train, y_val = train_test_split(X_real, y_real, test_size=0.25, random_state=40)"
   ]
  },
  {
   "cell_type": "code",
   "execution_count": null,
   "metadata": {
    "id": "bH0tgmaDNUq5"
   },
   "outputs": [],
   "source": [
    "scaler = RobustScaler()\n",
    "\n",
    "X_train_lm_scaled = scaler.fit_transform(X_train)\n",
    "\n",
    "X_val_lm_scaled = scaler.transform(X_val)"
   ]
  },
  {
   "cell_type": "code",
   "execution_count": null,
   "metadata": {
    "id": "9G1QXRv6nj35"
   },
   "outputs": [],
   "source": [
    "model = LinearRegression()\n",
    "model.fit(X_train, y_train)\n",
    "model.score(X_train, y_train)\n"
   ]
  },
  {
   "cell_type": "code",
   "execution_count": null,
   "metadata": {
    "id": "seTuyeXVnj35"
   },
   "outputs": [],
   "source": [
    "model.score(X_val, y_val)"
   ]
  },
  {
   "cell_type": "markdown",
   "metadata": {
    "id": "b6lefzXkhIyw"
   },
   "source": [
    "### Model 3: the combonation of log price, beds, rating box-cox, number of rating box-cox and size"
   ]
  },
  {
   "cell_type": "code",
   "execution_count": null,
   "metadata": {
    "id": "CFeQoa1yoAVZ"
   },
   "outputs": [],
   "source": [
    "X_real, X_test, y_real, y_test = train_test_split(Hotels[['beds','rating_Boxcox', 'number_of_ratings_Boxcox','Size_m2']], Hotels['Log_price'], test_size=0.2, random_state=40)\n",
    "X_train, X_val, y_train, y_val = train_test_split(X_real, y_real, test_size=0.25, random_state=40)"
   ]
  },
  {
   "cell_type": "code",
   "execution_count": null,
   "metadata": {
    "id": "Vvz5mAeENWi8"
   },
   "outputs": [],
   "source": [
    "scaler = RobustScaler()\n",
    "\n",
    "X_train_lm_scaled = scaler.fit_transform(X_train)\n",
    "\n",
    "X_val_lm_scaled = scaler.transform(X_val)\n"
   ]
  },
  {
   "cell_type": "code",
   "execution_count": null,
   "metadata": {
    "id": "2Wemcia6oJr8"
   },
   "outputs": [],
   "source": [
    "model = LinearRegression()\n",
    "model.fit(X_train_lm_scaled, y_train)\n",
    "model.score(X_train_lm_scaled, y_train)"
   ]
  },
  {
   "cell_type": "code",
   "execution_count": null,
   "metadata": {
    "id": "9EywxfTPoJr9"
   },
   "outputs": [],
   "source": [
    "model.score(X_val_lm_scaled, y_val)"
   ]
  },
  {
   "cell_type": "markdown",
   "metadata": {
    "id": "KciA0H_Rov_W"
   },
   "source": [
    "to conclude the multiple linear regression model we found that the model with the best fit was the "
   ]
  },
  {
   "cell_type": "markdown",
   "metadata": {
    "id": "3l6fhs_6Nujt"
   },
   "source": [
    "## Polynomial Regression  : Abdultawwab"
   ]
  },
  {
   "cell_type": "code",
   "execution_count": null,
   "metadata": {
    "id": "2FaNqYsBNujt"
   },
   "outputs": [],
   "source": [
    "x1= Hotels.select_dtypes(include=['float64', 'int','int64'])\n",
    "#x1.head()\n",
    "\n",
    "X1=  x1[['beds','number_of_ratings','rating']] # with size it will be reduced\n",
    "\n",
    "y= x1['price']"
   ]
  },
  {
   "cell_type": "code",
   "execution_count": null,
   "metadata": {
    "id": "UYQPxK2ZfpU_"
   },
   "outputs": [],
   "source": [
    "from sklearn.linear_model import LinearRegression\n",
    "from sklearn.preprocessing import PolynomialFeatures\n",
    "from sklearn.model_selection import train_test_split\n",
    "from sklearn.preprocessing import RobustScaler\n",
    "\n",
    "X_train, X_test, y_train, y_test = train_test_split(X1,y,test_size = 0.2, random_state=40)\n",
    "X_train, X_val, y_train, y_val = train_test_split(X1, y, test_size=.15, random_state=3)\n"
   ]
  },
  {
   "cell_type": "code",
   "execution_count": null,
   "metadata": {
    "id": "cBOxXOZCfpp3"
   },
   "outputs": [],
   "source": [
    "poly = PolynomialFeatures(degree=3)\n",
    "X_train_poly = poly.fit_transform(X_train)\n",
    "\n",
    "# Apply polynomial transformation to val set\n",
    "X_val_poly = poly.transform(X_val)\n",
    "scaler = RobustScaler()\n",
    "\n",
    "X_train_poly_scaled = scaler.fit_transform(X_train_poly)\n",
    "\n",
    "X_val_poly_scaled = scaler.transform(X_val_poly)"
   ]
  },
  {
   "cell_type": "code",
   "execution_count": null,
   "metadata": {
    "id": "4q_yVMX7PpIV"
   },
   "outputs": [],
   "source": []
  },
  {
   "cell_type": "markdown",
   "metadata": {
    "id": "SKNs351CNuju"
   },
   "source": [
    "### validation"
   ]
  },
  {
   "cell_type": "code",
   "execution_count": null,
   "metadata": {
    "colab": {
     "base_uri": "https://localhost:8080/"
    },
    "id": "qLkj_gF5fobI",
    "outputId": "52a02c3a-4acf-4bce-b837-1770be415cc4"
   },
   "outputs": [
    {
     "data": {
      "text/plain": [
       "0.2933008891090493"
      ]
     },
     "execution_count": 39,
     "metadata": {},
     "output_type": "execute_result"
    }
   ],
   "source": [
    "poly = PolynomialFeatures(degree=3)\n",
    "X_train_poly = poly.fit_transform(X_train)\n",
    "\n",
    "# Apply polynomial transformation to val set\n",
    "X_val_poly = poly.transform(X_val)\n",
    "\n",
    "# Fit a model using polynomial features\n",
    "lr_poly = LinearRegression()\n",
    "lr_poly.fit(X_train_poly,y_train)\n",
    "lr_poly.score(X_train_poly,y_train)\n",
    "\n"
   ]
  },
  {
   "cell_type": "code",
   "execution_count": null,
   "metadata": {
    "colab": {
     "base_uri": "https://localhost:8080/"
    },
    "id": "3dXiPZY8Nuju",
    "outputId": "09c2dd6f-238f-4df7-d553-4e44056dc611"
   },
   "outputs": [
    {
     "data": {
      "text/plain": [
       "0.43687192556757415"
      ]
     },
     "execution_count": 40,
     "metadata": {},
     "output_type": "execute_result"
    }
   ],
   "source": [
    "lr_poly.score(X_val_poly, y_val)"
   ]
  },
  {
   "cell_type": "code",
   "execution_count": null,
   "metadata": {
    "id": "wbCBa2xBfqaW"
   },
   "outputs": [],
   "source": []
  },
  {
   "cell_type": "markdown",
   "metadata": {
    "id": "jCDeQzJWSGul"
   },
   "source": [
    "## Random Forest Regressor"
   ]
  },
  {
   "cell_type": "code",
   "execution_count": null,
   "metadata": {
    "id": "I83o0KYQUVSO"
   },
   "outputs": [],
   "source": [
    "X_train, X_test, y_train, y_test = train_test_split(X1,y,test_size = 0.2, random_state=40)\n",
    "X_train, X_val, y_train, y_val = train_test_split(X1, y, test_size=.15, random_state=3)\n"
   ]
  },
  {
   "cell_type": "markdown",
   "metadata": {
    "id": "vNiRtGqgYII6"
   },
   "source": [
    "### Model 1 : max depth = 2"
   ]
  },
  {
   "cell_type": "code",
   "execution_count": null,
   "metadata": {
    "colab": {
     "base_uri": "https://localhost:8080/"
    },
    "id": "1a0c204f",
    "outputId": "5e4f7f1a-0f98-41f5-b272-de16402159da"
   },
   "outputs": [
    {
     "data": {
      "text/plain": [
       "RandomForestRegressor(bootstrap=True, ccp_alpha=0.0, criterion='mse',\n",
       "                      max_depth=2, max_features='auto', max_leaf_nodes=None,\n",
       "                      max_samples=None, min_impurity_decrease=0.0,\n",
       "                      min_impurity_split=None, min_samples_leaf=1,\n",
       "                      min_samples_split=2, min_weight_fraction_leaf=0.0,\n",
       "                      n_estimators=100, n_jobs=None, oob_score=False,\n",
       "                      random_state=0, verbose=0, warm_start=False)"
      ]
     },
     "execution_count": 42,
     "metadata": {},
     "output_type": "execute_result"
    }
   ],
   "source": [
    "from sklearn.ensemble import RandomForestRegressor\n",
    "from sklearn.datasets import make_regression\n",
    "#X1, y = make_regression(n_features=4, n_informative=2,random_state=0, shuffle=False)\n",
    "m1 = RandomForestRegressor(max_depth=2, random_state=0)\n",
    "m1.fit(X_train, y_train)\n",
    "\n"
   ]
  },
  {
   "cell_type": "markdown",
   "metadata": {
    "id": "t6JfBmdYYPgT"
   },
   "source": [
    "### Model 2 : number of estimators = 10\n"
   ]
  },
  {
   "cell_type": "code",
   "execution_count": null,
   "metadata": {
    "colab": {
     "base_uri": "https://localhost:8080/"
    },
    "id": "59f22753",
    "outputId": "03aed673-a1c7-4d84-c521-812db4b5ea55"
   },
   "outputs": [
    {
     "data": {
      "text/plain": [
       "0.778379283650417"
      ]
     },
     "execution_count": 56,
     "metadata": {},
     "output_type": "execute_result"
    }
   ],
   "source": [
    "\n",
    "# Fitting Random Forest Regression to the dataset\n",
    "m2 = RandomForestRegressor(n_estimators = 10, random_state = 0)\n",
    "m2.fit(X_train, y_train)\n",
    "m2.score(X_train, y_train)\n",
    "\n",
    "\n"
   ]
  },
  {
   "cell_type": "code",
   "execution_count": null,
   "metadata": {
    "colab": {
     "base_uri": "https://localhost:8080/"
    },
    "id": "YvWAopzrfEV_",
    "outputId": "768fdc08-b5b9-47d9-b296-ef99ab3dfbf3"
   },
   "outputs": [
    {
     "data": {
      "text/plain": [
       "-0.08044728301337489"
      ]
     },
     "execution_count": 44,
     "metadata": {},
     "output_type": "execute_result"
    }
   ],
   "source": [
    "m2.score(X_val, y_val)"
   ]
  },
  {
   "cell_type": "code",
   "execution_count": null,
   "metadata": {
    "colab": {
     "base_uri": "https://localhost:8080/"
    },
    "id": "AJKJAxhyfOXP",
    "outputId": "8b9fb1a3-f87b-4f22-dd1c-4bc9287143ce"
   },
   "outputs": [
    {
     "data": {
      "text/plain": [
       "0.656412737442305"
      ]
     },
     "execution_count": 45,
     "metadata": {},
     "output_type": "execute_result"
    }
   ],
   "source": [
    "m2.score(X_test, y_test)"
   ]
  },
  {
   "cell_type": "markdown",
   "metadata": {
    "id": "j5YhU-46Yl3S"
   },
   "source": [
    "### Model 3 : number of estimators = 1\n"
   ]
  },
  {
   "cell_type": "code",
   "execution_count": null,
   "metadata": {
    "colab": {
     "base_uri": "https://localhost:8080/"
    },
    "id": "dyr9mnk3SVB9",
    "outputId": "7366a787-5a81-4235-a7ea-226682baa723"
   },
   "outputs": [
    {
     "data": {
      "text/plain": [
       "RandomForestRegressor(bootstrap=True, ccp_alpha=0.0, criterion='mse',\n",
       "                      max_depth=None, max_features='auto', max_leaf_nodes=None,\n",
       "                      max_samples=None, min_impurity_decrease=0.0,\n",
       "                      min_impurity_split=None, min_samples_leaf=1,\n",
       "                      min_samples_split=2, min_weight_fraction_leaf=0.0,\n",
       "                      n_estimators=1, n_jobs=None, oob_score=False,\n",
       "                      random_state=10, verbose=0, warm_start=False)"
      ]
     },
     "execution_count": 46,
     "metadata": {},
     "output_type": "execute_result"
    }
   ],
   "source": [
    "from sklearn.ensemble import RandomForestRegressor\n",
    "#from sklearn.model_selection import train_test_splitx_train\n",
    "\n",
    "\n",
    "m3 = RandomForestRegressor(n_estimators=1, random_state=10)\n",
    "m3.fit(X_train, y_train)\n"
   ]
  },
  {
   "cell_type": "markdown",
   "metadata": {
    "id": "B4Van5bAX_nv"
   },
   "source": [
    "### validation"
   ]
  },
  {
   "cell_type": "code",
   "execution_count": null,
   "metadata": {
    "colab": {
     "base_uri": "https://localhost:8080/"
    },
    "id": "3e231e85",
    "outputId": "6a260e5e-dfe1-49a8-cf68-84fbd47098b8"
   },
   "outputs": [
    {
     "name": "stdout",
     "output_type": "stream",
     "text": [
      "Mean Absolute Error: 155.93 degrees.\n"
     ]
    }
   ],
   "source": [
    "# Use the forest's predict method on the test data\n",
    "predictions = m1.predict(X_val)\n",
    "# Calculate the absolute errors\n",
    "errors = abs(predictions -  y_val)\n",
    "# Print out the mean absolute error (mae)\n",
    "print('Mean Absolute Error:', round(np.mean(errors), 2), 'degrees.')\n"
   ]
  },
  {
   "cell_type": "code",
   "execution_count": null,
   "metadata": {
    "colab": {
     "base_uri": "https://localhost:8080/"
    },
    "id": "643d6cc6",
    "outputId": "20090544-d531-4302-d510-571627683bba"
   },
   "outputs": [
    {
     "name": "stdout",
     "output_type": "stream",
     "text": [
      "Accuracy: 30.54 %.\n"
     ]
    }
   ],
   "source": [
    "mape = 100 * (errors / y_val)\n",
    "# Calculate and display accuracy\n",
    "accuracy = 100 - np.mean(mape)\n",
    "print('Accuracy:', round(accuracy, 2), '%.')\n"
   ]
  },
  {
   "cell_type": "code",
   "execution_count": null,
   "metadata": {
    "colab": {
     "base_uri": "https://localhost:8080/"
    },
    "id": "UKaFyOKFZCfK",
    "outputId": "0ac5bf42-2897-4400-ecc5-f3ba601dafee"
   },
   "outputs": [
    {
     "name": "stdout",
     "output_type": "stream",
     "text": [
      "Mean Absolute Error: 174.32 degrees.\n"
     ]
    }
   ],
   "source": [
    "# Use the forest's predict method on the test data\n",
    "predictions = m2.predict(X_val)\n",
    "# Calculate the absolute errors\n",
    "errors = abs(predictions -  y_val)\n",
    "# Print out the mean absolute error (mae)\n",
    "print('Mean Absolute Error:', round(np.mean(errors), 2), 'degrees.')\n"
   ]
  },
  {
   "cell_type": "code",
   "execution_count": null,
   "metadata": {
    "colab": {
     "base_uri": "https://localhost:8080/"
    },
    "id": "Uyqktok9ZCfL",
    "outputId": "1575848e-f32a-4536-8ac6-6e29e4c4204c"
   },
   "outputs": [
    {
     "name": "stdout",
     "output_type": "stream",
     "text": [
      "Accuracy: 32.53 %.\n"
     ]
    }
   ],
   "source": [
    "mape = 100 * (errors / y_val)\n",
    "# Calculate and display accuracy\n",
    "accuracy = 100 - np.mean(mape)\n",
    "print('Accuracy:', round(accuracy, 2), '%.')\n"
   ]
  },
  {
   "cell_type": "code",
   "execution_count": null,
   "metadata": {
    "colab": {
     "base_uri": "https://localhost:8080/"
    },
    "id": "H84ljLrYZC8K",
    "outputId": "af83c55e-67bc-46d9-a04f-e23af75d6381"
   },
   "outputs": [
    {
     "name": "stdout",
     "output_type": "stream",
     "text": [
      "Mean Absolute Error: 165.47 degrees.\n"
     ]
    }
   ],
   "source": [
    "# Use the forest's predict method on the test data\n",
    "predictions = m3.predict(X_val)\n",
    "# Calculate the absolute errors\n",
    "errors = abs(predictions -  y_val)\n",
    "# Print out the mean absolute error (mae)\n",
    "print('Mean Absolute Error:', round(np.mean(errors), 2), 'degrees.')\n"
   ]
  },
  {
   "cell_type": "code",
   "execution_count": null,
   "metadata": {
    "colab": {
     "base_uri": "https://localhost:8080/"
    },
    "id": "cpzSFd1jZC8K",
    "outputId": "42a3f89f-ef70-4e55-8595-9c4e724b7492"
   },
   "outputs": [
    {
     "name": "stdout",
     "output_type": "stream",
     "text": [
      "Accuracy: 29.29 %.\n"
     ]
    }
   ],
   "source": [
    "mape = 100 * (errors / y_test)\n",
    "# Calculate and display accuracy\n",
    "accuracy = 100 - np.mean(mape)\n",
    "print('Accuracy:', round(accuracy, 2), '%.')\n"
   ]
  },
  {
   "cell_type": "code",
   "execution_count": null,
   "metadata": {
    "colab": {
     "base_uri": "https://localhost:8080/",
     "height": 701
    },
    "id": "Y0Jg6aTWUA0K",
    "outputId": "be71a606-a5a6-457b-c94a-d1bb8d356a95"
   },
   "outputs": [
    {
     "ename": "ValueError",
     "evalue": "ignored",
     "output_type": "error",
     "traceback": [
      "\u001b[0;31m---------------------------------------------------------------------------\u001b[0m",
      "\u001b[0;31mValueError\u001b[0m                                Traceback (most recent call last)",
      "\u001b[0;32m<ipython-input-53-7d608b12d63c>\u001b[0m in \u001b[0;36m<module>\u001b[0;34m()\u001b[0m\n\u001b[1;32m      1\u001b[0m \u001b[0mfig\u001b[0m \u001b[0;34m=\u001b[0m \u001b[0mplt\u001b[0m\u001b[0;34m.\u001b[0m\u001b[0mfigure\u001b[0m\u001b[0;34m(\u001b[0m\u001b[0mfigsize\u001b[0m\u001b[0;34m=\u001b[0m\u001b[0;34m(\u001b[0m\u001b[0;36m10\u001b[0m\u001b[0;34m,\u001b[0m\u001b[0;36m5\u001b[0m\u001b[0;34m)\u001b[0m\u001b[0;34m)\u001b[0m\u001b[0;34m\u001b[0m\u001b[0;34m\u001b[0m\u001b[0m\n\u001b[0;32m----> 2\u001b[0;31m \u001b[0mplt\u001b[0m\u001b[0;34m.\u001b[0m\u001b[0mscatter\u001b[0m\u001b[0;34m(\u001b[0m\u001b[0mX_val\u001b[0m\u001b[0;34m,\u001b[0m \u001b[0my_val\u001b[0m\u001b[0;34m,\u001b[0m \u001b[0mlabel\u001b[0m\u001b[0;34m=\u001b[0m\u001b[0;34m\"Truth\"\u001b[0m\u001b[0;34m)\u001b[0m\u001b[0;34m\u001b[0m\u001b[0;34m\u001b[0m\u001b[0m\n\u001b[0m\u001b[1;32m      3\u001b[0m \u001b[0mplt\u001b[0m\u001b[0;34m.\u001b[0m\u001b[0mxlabel\u001b[0m\u001b[0;34m(\u001b[0m\u001b[0;34m\"X\"\u001b[0m\u001b[0;34m)\u001b[0m\u001b[0;34m\u001b[0m\u001b[0;34m\u001b[0m\u001b[0m\n\u001b[1;32m      4\u001b[0m \u001b[0mplt\u001b[0m\u001b[0;34m.\u001b[0m\u001b[0mylabel\u001b[0m\u001b[0;34m(\u001b[0m\u001b[0;34m\"Y\"\u001b[0m\u001b[0;34m)\u001b[0m\u001b[0;34m\u001b[0m\u001b[0;34m\u001b[0m\u001b[0m\n\u001b[1;32m      5\u001b[0m \u001b[0mplt\u001b[0m\u001b[0;34m.\u001b[0m\u001b[0mlegend\u001b[0m\u001b[0;34m(\u001b[0m\u001b[0mloc\u001b[0m\u001b[0;34m=\u001b[0m\u001b[0;34m\"upper left\"\u001b[0m\u001b[0;34m)\u001b[0m\u001b[0;34m\u001b[0m\u001b[0;34m\u001b[0m\u001b[0m\n",
      "\u001b[0;32m/usr/local/lib/python3.7/dist-packages/matplotlib/pyplot.py\u001b[0m in \u001b[0;36mscatter\u001b[0;34m(x, y, s, c, marker, cmap, norm, vmin, vmax, alpha, linewidths, verts, edgecolors, plotnonfinite, data, **kwargs)\u001b[0m\n\u001b[1;32m   2814\u001b[0m         \u001b[0mverts\u001b[0m\u001b[0;34m=\u001b[0m\u001b[0mverts\u001b[0m\u001b[0;34m,\u001b[0m \u001b[0medgecolors\u001b[0m\u001b[0;34m=\u001b[0m\u001b[0medgecolors\u001b[0m\u001b[0;34m,\u001b[0m\u001b[0;34m\u001b[0m\u001b[0;34m\u001b[0m\u001b[0m\n\u001b[1;32m   2815\u001b[0m         plotnonfinite=plotnonfinite, **({\"data\": data} if data is not\n\u001b[0;32m-> 2816\u001b[0;31m         None else {}), **kwargs)\n\u001b[0m\u001b[1;32m   2817\u001b[0m     \u001b[0msci\u001b[0m\u001b[0;34m(\u001b[0m\u001b[0m__ret\u001b[0m\u001b[0;34m)\u001b[0m\u001b[0;34m\u001b[0m\u001b[0;34m\u001b[0m\u001b[0m\n\u001b[1;32m   2818\u001b[0m     \u001b[0;32mreturn\u001b[0m \u001b[0m__ret\u001b[0m\u001b[0;34m\u001b[0m\u001b[0;34m\u001b[0m\u001b[0m\n",
      "\u001b[0;32m/usr/local/lib/python3.7/dist-packages/matplotlib/__init__.py\u001b[0m in \u001b[0;36minner\u001b[0;34m(ax, data, *args, **kwargs)\u001b[0m\n\u001b[1;32m   1563\u001b[0m     \u001b[0;32mdef\u001b[0m \u001b[0minner\u001b[0m\u001b[0;34m(\u001b[0m\u001b[0max\u001b[0m\u001b[0;34m,\u001b[0m \u001b[0;34m*\u001b[0m\u001b[0margs\u001b[0m\u001b[0;34m,\u001b[0m \u001b[0mdata\u001b[0m\u001b[0;34m=\u001b[0m\u001b[0;32mNone\u001b[0m\u001b[0;34m,\u001b[0m \u001b[0;34m**\u001b[0m\u001b[0mkwargs\u001b[0m\u001b[0;34m)\u001b[0m\u001b[0;34m:\u001b[0m\u001b[0;34m\u001b[0m\u001b[0;34m\u001b[0m\u001b[0m\n\u001b[1;32m   1564\u001b[0m         \u001b[0;32mif\u001b[0m \u001b[0mdata\u001b[0m \u001b[0;32mis\u001b[0m \u001b[0;32mNone\u001b[0m\u001b[0;34m:\u001b[0m\u001b[0;34m\u001b[0m\u001b[0;34m\u001b[0m\u001b[0m\n\u001b[0;32m-> 1565\u001b[0;31m             \u001b[0;32mreturn\u001b[0m \u001b[0mfunc\u001b[0m\u001b[0;34m(\u001b[0m\u001b[0max\u001b[0m\u001b[0;34m,\u001b[0m \u001b[0;34m*\u001b[0m\u001b[0mmap\u001b[0m\u001b[0;34m(\u001b[0m\u001b[0msanitize_sequence\u001b[0m\u001b[0;34m,\u001b[0m \u001b[0margs\u001b[0m\u001b[0;34m)\u001b[0m\u001b[0;34m,\u001b[0m \u001b[0;34m**\u001b[0m\u001b[0mkwargs\u001b[0m\u001b[0;34m)\u001b[0m\u001b[0;34m\u001b[0m\u001b[0;34m\u001b[0m\u001b[0m\n\u001b[0m\u001b[1;32m   1566\u001b[0m \u001b[0;34m\u001b[0m\u001b[0m\n\u001b[1;32m   1567\u001b[0m         \u001b[0mbound\u001b[0m \u001b[0;34m=\u001b[0m \u001b[0mnew_sig\u001b[0m\u001b[0;34m.\u001b[0m\u001b[0mbind\u001b[0m\u001b[0;34m(\u001b[0m\u001b[0max\u001b[0m\u001b[0;34m,\u001b[0m \u001b[0;34m*\u001b[0m\u001b[0margs\u001b[0m\u001b[0;34m,\u001b[0m \u001b[0;34m**\u001b[0m\u001b[0mkwargs\u001b[0m\u001b[0;34m)\u001b[0m\u001b[0;34m\u001b[0m\u001b[0;34m\u001b[0m\u001b[0m\n",
      "\u001b[0;32m/usr/local/lib/python3.7/dist-packages/matplotlib/cbook/deprecation.py\u001b[0m in \u001b[0;36mwrapper\u001b[0;34m(*args, **kwargs)\u001b[0m\n\u001b[1;32m    356\u001b[0m                 \u001b[0;34mf\"%(removal)s.  If any parameter follows {name!r}, they \"\u001b[0m\u001b[0;34m\u001b[0m\u001b[0;34m\u001b[0m\u001b[0m\n\u001b[1;32m    357\u001b[0m                 f\"should be pass as keyword, not positionally.\")\n\u001b[0;32m--> 358\u001b[0;31m         \u001b[0;32mreturn\u001b[0m \u001b[0mfunc\u001b[0m\u001b[0;34m(\u001b[0m\u001b[0;34m*\u001b[0m\u001b[0margs\u001b[0m\u001b[0;34m,\u001b[0m \u001b[0;34m**\u001b[0m\u001b[0mkwargs\u001b[0m\u001b[0;34m)\u001b[0m\u001b[0;34m\u001b[0m\u001b[0;34m\u001b[0m\u001b[0m\n\u001b[0m\u001b[1;32m    359\u001b[0m \u001b[0;34m\u001b[0m\u001b[0m\n\u001b[1;32m    360\u001b[0m     \u001b[0;32mreturn\u001b[0m \u001b[0mwrapper\u001b[0m\u001b[0;34m\u001b[0m\u001b[0;34m\u001b[0m\u001b[0m\n",
      "\u001b[0;32m/usr/local/lib/python3.7/dist-packages/matplotlib/axes/_axes.py\u001b[0m in \u001b[0;36mscatter\u001b[0;34m(self, x, y, s, c, marker, cmap, norm, vmin, vmax, alpha, linewidths, verts, edgecolors, plotnonfinite, **kwargs)\u001b[0m\n\u001b[1;32m   4389\u001b[0m         \u001b[0my\u001b[0m \u001b[0;34m=\u001b[0m \u001b[0mnp\u001b[0m\u001b[0;34m.\u001b[0m\u001b[0mma\u001b[0m\u001b[0;34m.\u001b[0m\u001b[0mravel\u001b[0m\u001b[0;34m(\u001b[0m\u001b[0my\u001b[0m\u001b[0;34m)\u001b[0m\u001b[0;34m\u001b[0m\u001b[0;34m\u001b[0m\u001b[0m\n\u001b[1;32m   4390\u001b[0m         \u001b[0;32mif\u001b[0m \u001b[0mx\u001b[0m\u001b[0;34m.\u001b[0m\u001b[0msize\u001b[0m \u001b[0;34m!=\u001b[0m \u001b[0my\u001b[0m\u001b[0;34m.\u001b[0m\u001b[0msize\u001b[0m\u001b[0;34m:\u001b[0m\u001b[0;34m\u001b[0m\u001b[0;34m\u001b[0m\u001b[0m\n\u001b[0;32m-> 4391\u001b[0;31m             \u001b[0;32mraise\u001b[0m \u001b[0mValueError\u001b[0m\u001b[0;34m(\u001b[0m\u001b[0;34m\"x and y must be the same size\"\u001b[0m\u001b[0;34m)\u001b[0m\u001b[0;34m\u001b[0m\u001b[0;34m\u001b[0m\u001b[0m\n\u001b[0m\u001b[1;32m   4392\u001b[0m \u001b[0;34m\u001b[0m\u001b[0m\n\u001b[1;32m   4393\u001b[0m         \u001b[0;32mif\u001b[0m \u001b[0ms\u001b[0m \u001b[0;32mis\u001b[0m \u001b[0;32mNone\u001b[0m\u001b[0;34m:\u001b[0m\u001b[0;34m\u001b[0m\u001b[0;34m\u001b[0m\u001b[0m\n",
      "\u001b[0;31mValueError\u001b[0m: x and y must be the same size"
     ]
    },
    {
     "data": {
      "image/png": "[encoded data removed]",
      "text/plain": [
       "<Figure size 720x360 with 1 Axes>"
      ]
     },
     "metadata": {},
     "output_type": "display_data"
    }
   ],
   "source": [
    "fig = plt.figure(figsize=(10,5))\n",
    "plt.scatter(X_val, y_val, label=\"Truth\")\n",
    "plt.xlabel(\"X\")\n",
    "plt.ylabel(\"Y\")\n",
    "plt.legend(loc=\"upper left\")"
   ]
  },
  {
   "cell_type": "code",
   "execution_count": null,
   "metadata": {
    "id": "aLQT4I7qc_sz"
   },
   "outputs": [],
   "source": []
  },
  {
   "cell_type": "markdown",
   "metadata": {
    "id": "s00B9ZE2dIBf"
   },
   "source": [
    "## Decision Tree Regressor \n",
    "\n",
    "\n",
    "\n"
   ]
  },
  {
   "cell_type": "code",
   "execution_count": null,
   "metadata": {
    "id": "ba93aa9b"
   },
   "outputs": [],
   "source": [
    "from sklearn.tree import DecisionTreeRegressor\n",
    "import math\n",
    "from sklearn.ensemble import RandomForestRegressor\n",
    "\n",
    "from sklearn.model_selection import GridSearchCV\n",
    "from sklearn.model_selection import RandomizedSearchCV\n",
    "\n"
   ]
  },
  {
   "cell_type": "markdown",
   "metadata": {
    "id": "ivKyPHJwhwGg"
   },
   "source": [
    "### Model 1 : Decision Tree Regressor with no parameter tuning "
   ]
  },
  {
   "cell_type": "code",
   "execution_count": null,
   "metadata": {
    "id": "9ee6db65"
   },
   "outputs": [],
   "source": [
    "\n",
    "m1 = DecisionTreeRegressor()\n",
    "\n",
    "m1.fit(X_train,y_train)\n",
    "print(m1.score(X_val,y_val))\n"
   ]
  },
  {
   "cell_type": "markdown",
   "metadata": {
    "id": "dvKTvGFeiFT3"
   },
   "source": [
    "### Model 2 : Decision Tree Regressor with Grid search\n",
    "\n",
    "\n",
    "\n"
   ]
  },
  {
   "cell_type": "code",
   "execution_count": null,
   "metadata": {
    "id": "8413c724"
   },
   "outputs": [],
   "source": [
    "m2 = DecisionTreeRegressor()\n",
    "\n",
    "m2.fit(X_train,y_train)\n",
    "#print(dtr.score(X_test,y_test))\n",
    "#GridSearchCV \n",
    "param_grid = {  'bootstrap': [True], 'max_depth': [5, 10, None], \n",
    "              'max_features': ['auto', 'log2'], \n",
    "              'n_estimators': [5, 6, 7, 8, 9, 10, 11, 12, 13, 15]}\n",
    "rfr = RandomForestRegressor(random_state = 1)\n",
    "\n",
    "g_search = GridSearchCV(estimator = rfr, param_grid = param_grid, \n",
    "\n",
    "                          cv = 3, n_jobs = 1, verbose = 0, return_train_score=True)\n",
    "\n",
    "g_search.fit(X_train, y_train)\n",
    "print(g_search.best_params_)\n",
    "print(g_search.score(X_train, y_train))\n",
    "\n"
   ]
  },
  {
   "cell_type": "markdown",
   "metadata": {
    "id": "4OKiO3ggi4eI"
   },
   "source": [
    "### Model 3 : Decision Tree Regressor with Randomized Search\n",
    "\n",
    "\n",
    "\n"
   ]
  },
  {
   "cell_type": "code",
   "execution_count": null,
   "metadata": {
    "id": "82eecb76"
   },
   "outputs": [],
   "source": [
    "from sklearn.model_selection import RandomizedSearchCV\n",
    "\n",
    "n_estimators = [int(x) for x in np.linspace(start = 5 , stop = 15, num = 10)] # returns 10 numbers \n",
    "\n",
    "max_features = ['auto', 'log2']\n",
    "\n",
    "max_depth = [int(x) for x in np.linspace(5, 10, num = 2)] \n",
    "\n",
    "max_depth.append(None)\n",
    "\n",
    "bootstrap = [True, False]\n",
    "\n",
    "r_grid = {'n_estimators': n_estimators,\n",
    "\n",
    "               'max_features': max_features,\n",
    "\n",
    "               'max_depth': max_depth,\n",
    "\n",
    "               'bootstrap': bootstrap}\n",
    "\n",
    "print(r_grid)"
   ]
  },
  {
   "cell_type": "code",
   "execution_count": null,
   "metadata": {
    "id": "b39e96a5"
   },
   "outputs": [],
   "source": [
    "rfr_random = RandomizedSearchCV(estimator=rfr, param_distributions=r_grid, n_iter = 20,\n",
    "                                 cv = 3, verbose=2, random_state=42, n_jobs=-1, return_train_score=True)\n",
    "\n"
   ]
  },
  {
   "cell_type": "code",
   "execution_count": null,
   "metadata": {
    "id": "557e2da7"
   },
   "outputs": [],
   "source": [
    "rfr_random.fit(X_train, y_train);\n",
    "rfr_random.score(X_train, y_train)"
   ]
  },
  {
   "cell_type": "markdown",
   "metadata": {
    "id": "BOHJgMHejiTS"
   },
   "source": [
    "### valdation"
   ]
  },
  {
   "cell_type": "code",
   "execution_count": null,
   "metadata": {
    "id": "HJGUZwiPjnG0"
   },
   "outputs": [],
   "source": [
    "rfr_random.score(X_val, y_val)"
   ]
  },
  {
   "cell_type": "code",
   "execution_count": null,
   "metadata": {
    "id": "nWA_oFXPktV4"
   },
   "outputs": [],
   "source": [
    "g_search.score(X_val, y_val)"
   ]
  },
  {
   "cell_type": "code",
   "execution_count": null,
   "metadata": {
    "id": "Dy54X2l5lz2j"
   },
   "outputs": [],
   "source": [
    "m1.score(X_val, y_val)"
   ]
  },
  {
   "cell_type": "code",
   "execution_count": null,
   "metadata": {
    "id": "tAupy2S0ck1C"
   },
   "outputs": [],
   "source": []
  },
  {
   "cell_type": "markdown",
   "metadata": {
    "id": "gUj5Hst4coM-"
   },
   "source": [
    "## Gradient Booster "
   ]
  },
  {
   "cell_type": "code",
   "execution_count": null,
   "metadata": {
    "id": "ypTdvyT9c3t_"
   },
   "outputs": [],
   "source": [
    "from sklearn.ensemble import GradientBoostingRegressor\n",
    "import numpy as np\n",
    "import pandas as pd\n",
    "from sklearn.model_selection import train_test_split\n",
    "from sklearn.metrics import mean_squared_error\n",
    "from sklearn.datasets import load_boston\n",
    "from sklearn.metrics import mean_absolute_error"
   ]
  },
  {
   "cell_type": "code",
   "execution_count": null,
   "metadata": {
    "id": "rEotuaVNr_LD"
   },
   "outputs": [],
   "source": [
    "X_train, X_test, y_train, y_test = train_test_split(X1,y,test_size = 0.2, random_state=40)\n",
    "X_train, X_val, y_train, y_val = train_test_split(X1, y, test_size=.15, random_state=3)"
   ]
  },
  {
   "cell_type": "code",
   "execution_count": null,
   "metadata": {
    "colab": {
     "base_uri": "https://localhost:8080/"
    },
    "id": "azPmPb-hc3i7",
    "outputId": "03d85bde-b543-4a72-f040-82775822cc5e"
   },
   "outputs": [
    {
     "data": {
      "text/plain": [
       "0.32429828507464853"
      ]
     },
     "execution_count": 208,
     "metadata": {},
     "output_type": "execute_result"
    }
   ],
   "source": [
    "regressor = GradientBoostingRegressor(\n",
    "    max_depth=2,\n",
    "    n_estimators=3,\n",
    "    learning_rate=1.0\n",
    ")\n",
    "regressor.fit(X_train, y_train)\n",
    "regressor.score(X_train, y_train)"
   ]
  },
  {
   "cell_type": "code",
   "execution_count": null,
   "metadata": {
    "id": "UA2iw68hfv2H"
   },
   "outputs": [],
   "source": [
    "errors = [mean_squared_error(y_test, y_pred) for y_pred in regressor.staged_predict(X_test)]\n",
    "best_n_estimators = np.argmin(errors)"
   ]
  },
  {
   "cell_type": "markdown",
   "metadata": {
    "id": "ry8WUcP1c4rC"
   },
   "source": [
    "validation"
   ]
  },
  {
   "cell_type": "code",
   "execution_count": null,
   "metadata": {
    "colab": {
     "base_uri": "https://localhost:8080/"
    },
    "id": "FHa_-IYdc3NH",
    "outputId": "5f9639f1-b2e8-4e65-bc4c-0d8b28f76d7d"
   },
   "outputs": [
    {
     "data": {
      "text/plain": [
       "0.2301785317134284"
      ]
     },
     "execution_count": 210,
     "metadata": {},
     "output_type": "execute_result"
    }
   ],
   "source": [
    "best_regressor = GradientBoostingRegressor(\n",
    "    max_depth=2,\n",
    "    n_estimators=best_n_estimators,\n",
    "    learning_rate=1.0\n",
    ")\n",
    "best_regressor.fit(X_train, y_train)\n",
    "\n",
    "best_regressor.score(X_val, y_val) "
   ]
  },
  {
   "cell_type": "code",
   "execution_count": null,
   "metadata": {
    "id": "eH3F1Bnxrrne"
   },
   "outputs": [],
   "source": []
  },
  {
   "cell_type": "code",
   "execution_count": null,
   "metadata": {
    "colab": {
     "base_uri": "https://localhost:8080/"
    },
    "id": "EPGatS-PgvS6",
    "outputId": "66d52400-ab1d-4375-a95f-68e116dbb4c7"
   },
   "outputs": [
    {
     "data": {
      "text/plain": [
       "179.5523543370454"
      ]
     },
     "execution_count": 211,
     "metadata": {},
     "output_type": "execute_result"
    }
   ],
   "source": [
    "y_pred = best_regressor.predict(X_test)\n",
    "mean_absolute_error(y_test, y_pred)"
   ]
  },
  {
   "cell_type": "code",
   "execution_count": null,
   "metadata": {
    "colab": {
     "base_uri": "https://localhost:8080/"
    },
    "id": "aYGAXYKVqn76",
    "outputId": "6991ed29-3027-4fde-ce97-23da1a245513"
   },
   "outputs": [
    {
     "data": {
      "text/plain": [
       "14.538719674050874"
      ]
     },
     "execution_count": 212,
     "metadata": {},
     "output_type": "execute_result"
    }
   ],
   "source": [
    "(y_test-y_pred).mean()# no bais less better"
   ]
  },
  {
   "cell_type": "code",
   "execution_count": null,
   "metadata": {
    "id": "rLAeG8awrMlb"
   },
   "outputs": [],
   "source": []
  },
  {
   "cell_type": "code",
   "execution_count": null,
   "metadata": {
    "colab": {
     "base_uri": "https://localhost:8080/"
    },
    "id": "dM92HACKgyER",
    "outputId": "3fd8e473-bd2d-4812-cf9d-373e9fb3f375"
   },
   "outputs": [
    {
     "data": {
      "text/plain": [
       "0.1239049351177751"
      ]
     },
     "execution_count": 206,
     "metadata": {},
     "output_type": "execute_result"
    }
   ],
   "source": [
    "best_regressor.score(X_test, y_test)"
   ]
  },
  {
   "cell_type": "markdown",
   "metadata": {
    "id": "rcviy3RaNuju"
   },
   "source": [
    "## Ridge Regularazation"
   ]
  },
  {
   "cell_type": "code",
   "execution_count": null,
   "metadata": {
    "id": "Pq76ED3PpyhG"
   },
   "outputs": [],
   "source": [
    "from sklearn.linear_model import LassoCV, RidgeCV,ElasticNetCV\n",
    "#from sklearn.model_selection import KFold\n",
    "from sklearn.linear_model import LinearRegression, Ridge\n",
    "from sklearn.model_selection import GridSearchCV\n",
    "from sklearn.linear_model import Lasso, Ridge, ElasticNet, LinearRegression\n",
    "from sklearn.model_selection import (cross_val_score, train_test_split, KFold, GridSearchCV)# parameter tunning"
   ]
  },
  {
   "cell_type": "code",
   "execution_count": null,
   "metadata": {
    "id": "pb6wdK_mszFN"
   },
   "outputs": [],
   "source": [
    "kf = KFold(n_splits=5, shuffle=True, random_state=0)"
   ]
  },
  {
   "cell_type": "code",
   "execution_count": null,
   "metadata": {
    "id": "rYKkSvXds1Fp"
   },
   "outputs": [],
   "source": [
    "from sklearn.metrics import mean_absolute_error"
   ]
  },
  {
   "cell_type": "code",
   "execution_count": null,
   "metadata": {
    "colab": {
     "base_uri": "https://localhost:8080/",
     "height": 341
    },
    "id": "WQEISPWLtGNA",
    "outputId": "4a961e53-ed1b-40c8-8ec3-f994c93ee286"
   },
   "outputs": [
    {
     "ename": "TypeError",
     "evalue": "ignored",
     "output_type": "error",
     "traceback": [
      "\u001b[0;31m---------------------------------------------------------------------------\u001b[0m",
      "\u001b[0;31mTypeError\u001b[0m                                 Traceback (most recent call last)",
      "\u001b[0;32m<ipython-input-238-041ea2b9d1a0>\u001b[0m in \u001b[0;36m<module>\u001b[0;34m()\u001b[0m\n\u001b[1;32m      1\u001b[0m \u001b[0mridge\u001b[0m \u001b[0;34m=\u001b[0m \u001b[0mRidgeCV\u001b[0m\u001b[0;34m(\u001b[0m\u001b[0mGS\u001b[0m\u001b[0;34m.\u001b[0m\u001b[0mbest_estimator_\u001b[0m\u001b[0;34m.\u001b[0m\u001b[0malpha\u001b[0m\u001b[0;34m)\u001b[0m\u001b[0;34m\u001b[0m\u001b[0;34m\u001b[0m\u001b[0m\n\u001b[0;32m----> 2\u001b[0;31m \u001b[0mridge\u001b[0m\u001b[0;34m.\u001b[0m\u001b[0mfit\u001b[0m\u001b[0;34m(\u001b[0m\u001b[0mX_train_poly_scaled\u001b[0m\u001b[0;34m,\u001b[0m\u001b[0my_train\u001b[0m\u001b[0;34m)\u001b[0m\u001b[0;34m\u001b[0m\u001b[0;34m\u001b[0m\u001b[0m\n\u001b[0m\u001b[1;32m      3\u001b[0m \u001b[0mridge\u001b[0m\u001b[0;34m.\u001b[0m\u001b[0mscore\u001b[0m\u001b[0;34m(\u001b[0m\u001b[0mX_train_poly_scaled\u001b[0m\u001b[0;34m,\u001b[0m\u001b[0my_train\u001b[0m\u001b[0;34m)\u001b[0m\u001b[0;34m\u001b[0m\u001b[0;34m\u001b[0m\u001b[0m\n",
      "\u001b[0;32m/usr/local/lib/python3.7/dist-packages/sklearn/linear_model/_ridge.py\u001b[0m in \u001b[0;36mfit\u001b[0;34m(self, X, y, sample_weight)\u001b[0m\n\u001b[1;32m   1567\u001b[0m                                   \u001b[0mgcv_mode\u001b[0m\u001b[0;34m=\u001b[0m\u001b[0mself\u001b[0m\u001b[0;34m.\u001b[0m\u001b[0mgcv_mode\u001b[0m\u001b[0;34m,\u001b[0m\u001b[0;34m\u001b[0m\u001b[0;34m\u001b[0m\u001b[0m\n\u001b[1;32m   1568\u001b[0m                                   store_cv_values=self.store_cv_values)\n\u001b[0;32m-> 1569\u001b[0;31m             \u001b[0mestimator\u001b[0m\u001b[0;34m.\u001b[0m\u001b[0mfit\u001b[0m\u001b[0;34m(\u001b[0m\u001b[0mX\u001b[0m\u001b[0;34m,\u001b[0m \u001b[0my\u001b[0m\u001b[0;34m,\u001b[0m \u001b[0msample_weight\u001b[0m\u001b[0;34m=\u001b[0m\u001b[0msample_weight\u001b[0m\u001b[0;34m)\u001b[0m\u001b[0;34m\u001b[0m\u001b[0;34m\u001b[0m\u001b[0m\n\u001b[0m\u001b[1;32m   1570\u001b[0m             \u001b[0mself\u001b[0m\u001b[0;34m.\u001b[0m\u001b[0malpha_\u001b[0m \u001b[0;34m=\u001b[0m \u001b[0mestimator\u001b[0m\u001b[0;34m.\u001b[0m\u001b[0malpha_\u001b[0m\u001b[0;34m\u001b[0m\u001b[0;34m\u001b[0m\u001b[0m\n\u001b[1;32m   1571\u001b[0m             \u001b[0;32mif\u001b[0m \u001b[0mself\u001b[0m\u001b[0;34m.\u001b[0m\u001b[0mstore_cv_values\u001b[0m\u001b[0;34m:\u001b[0m\u001b[0;34m\u001b[0m\u001b[0;34m\u001b[0m\u001b[0m\n",
      "\u001b[0;32m/usr/local/lib/python3.7/dist-packages/sklearn/linear_model/_ridge.py\u001b[0m in \u001b[0;36mfit\u001b[0;34m(self, X, y, sample_weight)\u001b[0m\n\u001b[1;32m   1470\u001b[0m \u001b[0;34m\u001b[0m\u001b[0m\n\u001b[1;32m   1471\u001b[0m         \u001b[0mn_y\u001b[0m \u001b[0;34m=\u001b[0m \u001b[0;36m1\u001b[0m \u001b[0;32mif\u001b[0m \u001b[0mlen\u001b[0m\u001b[0;34m(\u001b[0m\u001b[0my\u001b[0m\u001b[0;34m.\u001b[0m\u001b[0mshape\u001b[0m\u001b[0;34m)\u001b[0m \u001b[0;34m==\u001b[0m \u001b[0;36m1\u001b[0m \u001b[0;32melse\u001b[0m \u001b[0my\u001b[0m\u001b[0;34m.\u001b[0m\u001b[0mshape\u001b[0m\u001b[0;34m[\u001b[0m\u001b[0;36m1\u001b[0m\u001b[0;34m]\u001b[0m\u001b[0;34m\u001b[0m\u001b[0;34m\u001b[0m\u001b[0m\n\u001b[0;32m-> 1472\u001b[0;31m         cv_values = np.zeros((n_samples * n_y, len(self.alphas)),\n\u001b[0m\u001b[1;32m   1473\u001b[0m                              dtype=X.dtype)\n\u001b[1;32m   1474\u001b[0m         \u001b[0mC\u001b[0m \u001b[0;34m=\u001b[0m \u001b[0;34m[\u001b[0m\u001b[0;34m]\u001b[0m\u001b[0;34m\u001b[0m\u001b[0;34m\u001b[0m\u001b[0m\n",
      "\u001b[0;31mTypeError\u001b[0m: len() of unsized object"
     ]
    }
   ],
   "source": [
    "ridge = RidgeCV(GS.best_estimator_.alpha)\n",
    "ridge.fit(X_train_poly_scaled,y_train)\n",
    "ridge.score(X_train_poly_scaled,y_train)"
   ]
  },
  {
   "cell_type": "code",
   "execution_count": null,
   "metadata": {
    "colab": {
     "base_uri": "https://localhost:8080/",
     "height": 375
    },
    "id": "CxxIjyd1Nuju",
    "outputId": "d1f25888-4bf8-4cec-dbf6-e505d804ba7d"
   },
   "outputs": [
    {
     "ename": "TypeError",
     "evalue": "ignored",
     "output_type": "error",
     "traceback": [
      "\u001b[0;31m---------------------------------------------------------------------------\u001b[0m",
      "\u001b[0;31mTypeError\u001b[0m                                 Traceback (most recent call last)",
      "\u001b[0;32m<ipython-input-246-10014289b5c4>\u001b[0m in \u001b[0;36m<module>\u001b[0;34m()\u001b[0m\n\u001b[1;32m      6\u001b[0m \u001b[0;34m\u001b[0m\u001b[0m\n\u001b[1;32m      7\u001b[0m \u001b[0mridge\u001b[0m \u001b[0;34m=\u001b[0m \u001b[0mRidgeCV\u001b[0m\u001b[0;34m(\u001b[0m\u001b[0mGS\u001b[0m\u001b[0;34m.\u001b[0m\u001b[0mbest_estimator_\u001b[0m\u001b[0;34m.\u001b[0m\u001b[0malpha\u001b[0m\u001b[0;34m)\u001b[0m\u001b[0;34m\u001b[0m\u001b[0;34m\u001b[0m\u001b[0m\n\u001b[0;32m----> 8\u001b[0;31m \u001b[0mridge\u001b[0m\u001b[0;34m.\u001b[0m\u001b[0mfit\u001b[0m\u001b[0;34m(\u001b[0m\u001b[0mX_poly_scaled\u001b[0m\u001b[0;34m,\u001b[0m\u001b[0my\u001b[0m\u001b[0;34m)\u001b[0m\u001b[0;34m\u001b[0m\u001b[0;34m\u001b[0m\u001b[0m\n\u001b[0m\u001b[1;32m      9\u001b[0m \u001b[0;34m\u001b[0m\u001b[0m\n\u001b[1;32m     10\u001b[0m \u001b[0;31m# Apply the same polynomial and scaling transformations to test set, then score\u001b[0m\u001b[0;34m\u001b[0m\u001b[0;34m\u001b[0m\u001b[0;34m\u001b[0m\u001b[0m\n",
      "\u001b[0;32m/usr/local/lib/python3.7/dist-packages/sklearn/linear_model/_ridge.py\u001b[0m in \u001b[0;36mfit\u001b[0;34m(self, X, y, sample_weight)\u001b[0m\n\u001b[1;32m   1567\u001b[0m                                   \u001b[0mgcv_mode\u001b[0m\u001b[0;34m=\u001b[0m\u001b[0mself\u001b[0m\u001b[0;34m.\u001b[0m\u001b[0mgcv_mode\u001b[0m\u001b[0;34m,\u001b[0m\u001b[0;34m\u001b[0m\u001b[0;34m\u001b[0m\u001b[0m\n\u001b[1;32m   1568\u001b[0m                                   store_cv_values=self.store_cv_values)\n\u001b[0;32m-> 1569\u001b[0;31m             \u001b[0mestimator\u001b[0m\u001b[0;34m.\u001b[0m\u001b[0mfit\u001b[0m\u001b[0;34m(\u001b[0m\u001b[0mX\u001b[0m\u001b[0;34m,\u001b[0m \u001b[0my\u001b[0m\u001b[0;34m,\u001b[0m \u001b[0msample_weight\u001b[0m\u001b[0;34m=\u001b[0m\u001b[0msample_weight\u001b[0m\u001b[0;34m)\u001b[0m\u001b[0;34m\u001b[0m\u001b[0;34m\u001b[0m\u001b[0m\n\u001b[0m\u001b[1;32m   1570\u001b[0m             \u001b[0mself\u001b[0m\u001b[0;34m.\u001b[0m\u001b[0malpha_\u001b[0m \u001b[0;34m=\u001b[0m \u001b[0mestimator\u001b[0m\u001b[0;34m.\u001b[0m\u001b[0malpha_\u001b[0m\u001b[0;34m\u001b[0m\u001b[0;34m\u001b[0m\u001b[0m\n\u001b[1;32m   1571\u001b[0m             \u001b[0;32mif\u001b[0m \u001b[0mself\u001b[0m\u001b[0;34m.\u001b[0m\u001b[0mstore_cv_values\u001b[0m\u001b[0;34m:\u001b[0m\u001b[0;34m\u001b[0m\u001b[0;34m\u001b[0m\u001b[0m\n",
      "\u001b[0;32m/usr/local/lib/python3.7/dist-packages/sklearn/linear_model/_ridge.py\u001b[0m in \u001b[0;36mfit\u001b[0;34m(self, X, y, sample_weight)\u001b[0m\n\u001b[1;32m   1470\u001b[0m \u001b[0;34m\u001b[0m\u001b[0m\n\u001b[1;32m   1471\u001b[0m         \u001b[0mn_y\u001b[0m \u001b[0;34m=\u001b[0m \u001b[0;36m1\u001b[0m \u001b[0;32mif\u001b[0m \u001b[0mlen\u001b[0m\u001b[0;34m(\u001b[0m\u001b[0my\u001b[0m\u001b[0;34m.\u001b[0m\u001b[0mshape\u001b[0m\u001b[0;34m)\u001b[0m \u001b[0;34m==\u001b[0m \u001b[0;36m1\u001b[0m \u001b[0;32melse\u001b[0m \u001b[0my\u001b[0m\u001b[0;34m.\u001b[0m\u001b[0mshape\u001b[0m\u001b[0;34m[\u001b[0m\u001b[0;36m1\u001b[0m\u001b[0;34m]\u001b[0m\u001b[0;34m\u001b[0m\u001b[0;34m\u001b[0m\u001b[0m\n\u001b[0;32m-> 1472\u001b[0;31m         cv_values = np.zeros((n_samples * n_y, len(self.alphas)),\n\u001b[0m\u001b[1;32m   1473\u001b[0m                              dtype=X.dtype)\n\u001b[1;32m   1474\u001b[0m         \u001b[0mC\u001b[0m \u001b[0;34m=\u001b[0m \u001b[0;34m[\u001b[0m\u001b[0;34m]\u001b[0m\u001b[0;34m\u001b[0m\u001b[0;34m\u001b[0m\u001b[0m\n",
      "\u001b[0;31mTypeError\u001b[0m: len() of unsized object"
     ]
    }
   ],
   "source": [
    "poly = PolynomialFeatures(degree=1)\n",
    "X_poly = poly.fit_transform(X1)\n",
    "\n",
    "scaler = StandardScaler()\n",
    "X_poly_scaled = scaler.fit_transform(X_poly)\n",
    "\n",
    "ridge = RidgeCV(GS.best_estimator_.alpha)\n",
    "ridge.fit(X_poly_scaled,y)\n",
    "\n",
    "# Apply the same polynomial and scaling transformations to test set, then score\n",
    "X_test_poly = poly.transform(X_test)\n",
    "X_test_poly_scaled = scaler.transform(X_test_poly)\n",
    "\n",
    "ridge.score(X_test_poly_scaled, y_test)"
   ]
  },
  {
   "cell_type": "code",
   "execution_count": null,
   "metadata": {
    "colab": {
     "base_uri": "https://localhost:8080/",
     "height": 341
    },
    "id": "R8g0E996n52N",
    "outputId": "60444cdf-17fd-42aa-ec2a-30bdd7c4012d"
   },
   "outputs": [
    {
     "ename": "TypeError",
     "evalue": "ignored",
     "output_type": "error",
     "traceback": [
      "\u001b[0;31m---------------------------------------------------------------------------\u001b[0m",
      "\u001b[0;31mTypeError\u001b[0m                                 Traceback (most recent call last)",
      "\u001b[0;32m<ipython-input-247-041ea2b9d1a0>\u001b[0m in \u001b[0;36m<module>\u001b[0;34m()\u001b[0m\n\u001b[1;32m      1\u001b[0m \u001b[0mridge\u001b[0m \u001b[0;34m=\u001b[0m \u001b[0mRidgeCV\u001b[0m\u001b[0;34m(\u001b[0m\u001b[0mGS\u001b[0m\u001b[0;34m.\u001b[0m\u001b[0mbest_estimator_\u001b[0m\u001b[0;34m.\u001b[0m\u001b[0malpha\u001b[0m\u001b[0;34m)\u001b[0m\u001b[0;34m\u001b[0m\u001b[0;34m\u001b[0m\u001b[0m\n\u001b[0;32m----> 2\u001b[0;31m \u001b[0mridge\u001b[0m\u001b[0;34m.\u001b[0m\u001b[0mfit\u001b[0m\u001b[0;34m(\u001b[0m\u001b[0mX_train_poly_scaled\u001b[0m\u001b[0;34m,\u001b[0m\u001b[0my_train\u001b[0m\u001b[0;34m)\u001b[0m\u001b[0;34m\u001b[0m\u001b[0;34m\u001b[0m\u001b[0m\n\u001b[0m\u001b[1;32m      3\u001b[0m \u001b[0mridge\u001b[0m\u001b[0;34m.\u001b[0m\u001b[0mscore\u001b[0m\u001b[0;34m(\u001b[0m\u001b[0mX_train_poly_scaled\u001b[0m\u001b[0;34m,\u001b[0m\u001b[0my_train\u001b[0m\u001b[0;34m)\u001b[0m\u001b[0;34m\u001b[0m\u001b[0;34m\u001b[0m\u001b[0m\n",
      "\u001b[0;32m/usr/local/lib/python3.7/dist-packages/sklearn/linear_model/_ridge.py\u001b[0m in \u001b[0;36mfit\u001b[0;34m(self, X, y, sample_weight)\u001b[0m\n\u001b[1;32m   1567\u001b[0m                                   \u001b[0mgcv_mode\u001b[0m\u001b[0;34m=\u001b[0m\u001b[0mself\u001b[0m\u001b[0;34m.\u001b[0m\u001b[0mgcv_mode\u001b[0m\u001b[0;34m,\u001b[0m\u001b[0;34m\u001b[0m\u001b[0;34m\u001b[0m\u001b[0m\n\u001b[1;32m   1568\u001b[0m                                   store_cv_values=self.store_cv_values)\n\u001b[0;32m-> 1569\u001b[0;31m             \u001b[0mestimator\u001b[0m\u001b[0;34m.\u001b[0m\u001b[0mfit\u001b[0m\u001b[0;34m(\u001b[0m\u001b[0mX\u001b[0m\u001b[0;34m,\u001b[0m \u001b[0my\u001b[0m\u001b[0;34m,\u001b[0m \u001b[0msample_weight\u001b[0m\u001b[0;34m=\u001b[0m\u001b[0msample_weight\u001b[0m\u001b[0;34m)\u001b[0m\u001b[0;34m\u001b[0m\u001b[0;34m\u001b[0m\u001b[0m\n\u001b[0m\u001b[1;32m   1570\u001b[0m             \u001b[0mself\u001b[0m\u001b[0;34m.\u001b[0m\u001b[0malpha_\u001b[0m \u001b[0;34m=\u001b[0m \u001b[0mestimator\u001b[0m\u001b[0;34m.\u001b[0m\u001b[0malpha_\u001b[0m\u001b[0;34m\u001b[0m\u001b[0;34m\u001b[0m\u001b[0m\n\u001b[1;32m   1571\u001b[0m             \u001b[0;32mif\u001b[0m \u001b[0mself\u001b[0m\u001b[0;34m.\u001b[0m\u001b[0mstore_cv_values\u001b[0m\u001b[0;34m:\u001b[0m\u001b[0;34m\u001b[0m\u001b[0;34m\u001b[0m\u001b[0m\n",
      "\u001b[0;32m/usr/local/lib/python3.7/dist-packages/sklearn/linear_model/_ridge.py\u001b[0m in \u001b[0;36mfit\u001b[0;34m(self, X, y, sample_weight)\u001b[0m\n\u001b[1;32m   1470\u001b[0m \u001b[0;34m\u001b[0m\u001b[0m\n\u001b[1;32m   1471\u001b[0m         \u001b[0mn_y\u001b[0m \u001b[0;34m=\u001b[0m \u001b[0;36m1\u001b[0m \u001b[0;32mif\u001b[0m \u001b[0mlen\u001b[0m\u001b[0;34m(\u001b[0m\u001b[0my\u001b[0m\u001b[0;34m.\u001b[0m\u001b[0mshape\u001b[0m\u001b[0;34m)\u001b[0m \u001b[0;34m==\u001b[0m \u001b[0;36m1\u001b[0m \u001b[0;32melse\u001b[0m \u001b[0my\u001b[0m\u001b[0;34m.\u001b[0m\u001b[0mshape\u001b[0m\u001b[0;34m[\u001b[0m\u001b[0;36m1\u001b[0m\u001b[0;34m]\u001b[0m\u001b[0;34m\u001b[0m\u001b[0;34m\u001b[0m\u001b[0m\n\u001b[0;32m-> 1472\u001b[0;31m         cv_values = np.zeros((n_samples * n_y, len(self.alphas)),\n\u001b[0m\u001b[1;32m   1473\u001b[0m                              dtype=X.dtype)\n\u001b[1;32m   1474\u001b[0m         \u001b[0mC\u001b[0m \u001b[0;34m=\u001b[0m \u001b[0;34m[\u001b[0m\u001b[0;34m]\u001b[0m\u001b[0;34m\u001b[0m\u001b[0;34m\u001b[0m\u001b[0m\n",
      "\u001b[0;31mTypeError\u001b[0m: len() of unsized object"
     ]
    }
   ],
   "source": [
    "ridge = RidgeCV(GS.best_estimator_.alpha)\n",
    "ridge.fit(X_train_poly_scaled,y_train)\n",
    "ridge.score(X_train_poly_scaled,y_train)"
   ]
  },
  {
   "cell_type": "markdown",
   "metadata": {
    "id": "cJx_pzrFn6X6"
   },
   "source": []
  },
  {
   "cell_type": "markdown",
   "metadata": {
    "id": "p2RbiaL2Nuju"
   },
   "source": [
    "### validation"
   ]
  },
  {
   "cell_type": "code",
   "execution_count": null,
   "metadata": {
    "id": "9HV58VHVNujv"
   },
   "outputs": [],
   "source": []
  },
  {
   "cell_type": "code",
   "execution_count": null,
   "metadata": {
    "id": "unCjrebcoo3O"
   },
   "outputs": [],
   "source": []
  },
  {
   "cell_type": "markdown",
   "metadata": {
    "id": "7lG-LUYTosW9"
   },
   "source": [
    "## Lasso Regularazation"
   ]
  },
  {
   "cell_type": "code",
   "execution_count": null,
   "metadata": {
    "colab": {
     "base_uri": "https://localhost:8080/"
    },
    "id": "0Ypg-9uLpu_q",
    "outputId": "ba212e57-cb9d-4b66-8b91-3dd32bf8a67d"
   },
   "outputs": [
    {
     "name": "stderr",
     "output_type": "stream",
     "text": [
      "/usr/local/lib/python3.7/dist-packages/sklearn/linear_model/_coordinate_descent.py:476: ConvergenceWarning: Objective did not converge. You might want to increase the number of iterations. Duality gap: 29582572.544385053, tolerance: 8603.526946972177\n",
      "  positive)\n",
      "/usr/local/lib/python3.7/dist-packages/sklearn/linear_model/_coordinate_descent.py:476: ConvergenceWarning: Objective did not converge. You might want to increase the number of iterations. Duality gap: 23666085.713789277, tolerance: 6954.084797708674\n",
      "  positive)\n",
      "/usr/local/lib/python3.7/dist-packages/sklearn/linear_model/_coordinate_descent.py:476: ConvergenceWarning: Objective did not converge. You might want to increase the number of iterations. Duality gap: 26471225.381954618, tolerance: 7031.187491325696\n",
      "  positive)\n",
      "/usr/local/lib/python3.7/dist-packages/sklearn/linear_model/_coordinate_descent.py:476: ConvergenceWarning: Objective did not converge. You might want to increase the number of iterations. Duality gap: 26774588.91221655, tolerance: 7873.138546972177\n",
      "  positive)\n",
      "/usr/local/lib/python3.7/dist-packages/sklearn/linear_model/_coordinate_descent.py:476: ConvergenceWarning: Objective did not converge. You might want to increase the number of iterations. Duality gap: 24504113.034980427, tolerance: 7159.640722058824\n",
      "  positive)\n",
      "/usr/local/lib/python3.7/dist-packages/sklearn/linear_model/_coordinate_descent.py:476: ConvergenceWarning: Objective did not converge. You might want to increase the number of iterations. Duality gap: 29582620.021015253, tolerance: 8603.526946972177\n",
      "  positive)\n",
      "/usr/local/lib/python3.7/dist-packages/sklearn/linear_model/_coordinate_descent.py:476: ConvergenceWarning: Objective did not converge. You might want to increase the number of iterations. Duality gap: 23666153.88950201, tolerance: 6954.084797708674\n",
      "  positive)\n",
      "/usr/local/lib/python3.7/dist-packages/sklearn/linear_model/_coordinate_descent.py:476: ConvergenceWarning: Objective did not converge. You might want to increase the number of iterations. Duality gap: 26471245.84389273, tolerance: 7031.187491325696\n",
      "  positive)\n",
      "/usr/local/lib/python3.7/dist-packages/sklearn/linear_model/_coordinate_descent.py:476: ConvergenceWarning: Objective did not converge. You might want to increase the number of iterations. Duality gap: 26774246.938870106, tolerance: 7873.138546972177\n",
      "  positive)\n",
      "/usr/local/lib/python3.7/dist-packages/sklearn/linear_model/_coordinate_descent.py:476: ConvergenceWarning: Objective did not converge. You might want to increase the number of iterations. Duality gap: 24504129.125262056, tolerance: 7159.640722058824\n",
      "  positive)\n",
      "/usr/local/lib/python3.7/dist-packages/sklearn/linear_model/_coordinate_descent.py:476: ConvergenceWarning: Objective did not converge. You might want to increase the number of iterations. Duality gap: 29582696.194791716, tolerance: 8603.526946972177\n",
      "  positive)\n",
      "/usr/local/lib/python3.7/dist-packages/sklearn/linear_model/_coordinate_descent.py:476: ConvergenceWarning: Objective did not converge. You might want to increase the number of iterations. Duality gap: 23666263.245678276, tolerance: 6954.084797708674\n",
      "  positive)\n",
      "/usr/local/lib/python3.7/dist-packages/sklearn/linear_model/_coordinate_descent.py:476: ConvergenceWarning: Objective did not converge. You might want to increase the number of iterations. Duality gap: 26471278.673066508, tolerance: 7031.187491325696\n",
      "  positive)\n",
      "/usr/local/lib/python3.7/dist-packages/sklearn/linear_model/_coordinate_descent.py:476: ConvergenceWarning: Objective did not converge. You might want to increase the number of iterations. Duality gap: 26773698.2308528, tolerance: 7873.138546972177\n",
      "  positive)\n",
      "/usr/local/lib/python3.7/dist-packages/sklearn/linear_model/_coordinate_descent.py:476: ConvergenceWarning: Objective did not converge. You might want to increase the number of iterations. Duality gap: 24504154.871301606, tolerance: 7159.640722058824\n",
      "  positive)\n",
      "/usr/local/lib/python3.7/dist-packages/sklearn/linear_model/_coordinate_descent.py:476: ConvergenceWarning: Objective did not converge. You might want to increase the number of iterations. Duality gap: 29582818.422200695, tolerance: 8603.526946972177\n",
      "  positive)\n",
      "/usr/local/lib/python3.7/dist-packages/sklearn/linear_model/_coordinate_descent.py:476: ConvergenceWarning: Objective did not converge. You might want to increase the number of iterations. Duality gap: 23666438.64462204, tolerance: 6954.084797708674\n",
      "  positive)\n",
      "/usr/local/lib/python3.7/dist-packages/sklearn/linear_model/_coordinate_descent.py:476: ConvergenceWarning: Objective did not converge. You might want to increase the number of iterations. Duality gap: 26471331.347868755, tolerance: 7031.187491325696\n",
      "  positive)\n",
      "/usr/local/lib/python3.7/dist-packages/sklearn/linear_model/_coordinate_descent.py:476: ConvergenceWarning: Objective did not converge. You might want to increase the number of iterations. Duality gap: 26772817.681565985, tolerance: 7873.138546972177\n",
      "  positive)\n",
      "/usr/local/lib/python3.7/dist-packages/sklearn/linear_model/_coordinate_descent.py:476: ConvergenceWarning: Objective did not converge. You might want to increase the number of iterations. Duality gap: 24504195.975031465, tolerance: 7159.640722058824\n",
      "  positive)\n",
      "/usr/local/lib/python3.7/dist-packages/sklearn/linear_model/_coordinate_descent.py:476: ConvergenceWarning: Objective did not converge. You might want to increase the number of iterations. Duality gap: 29583014.573671777, tolerance: 8603.526946972177\n",
      "  positive)\n",
      "/usr/local/lib/python3.7/dist-packages/sklearn/linear_model/_coordinate_descent.py:476: ConvergenceWarning: Objective did not converge. You might want to increase the number of iterations. Duality gap: 23666719.928350177, tolerance: 6954.084797708674\n",
      "  positive)\n",
      "/usr/local/lib/python3.7/dist-packages/sklearn/linear_model/_coordinate_descent.py:476: ConvergenceWarning: Objective did not converge. You might want to increase the number of iterations. Duality gap: 26471415.87437782, tolerance: 7031.187491325696\n",
      "  positive)\n",
      "/usr/local/lib/python3.7/dist-packages/sklearn/linear_model/_coordinate_descent.py:476: ConvergenceWarning: Objective did not converge. You might want to increase the number of iterations. Duality gap: 26771404.423531692, tolerance: 7873.138546972177\n",
      "  positive)\n",
      "/usr/local/lib/python3.7/dist-packages/sklearn/linear_model/_coordinate_descent.py:476: ConvergenceWarning: Objective did not converge. You might want to increase the number of iterations. Duality gap: 24504261.50289911, tolerance: 7159.640722058824\n",
      "  positive)\n",
      "/usr/local/lib/python3.7/dist-packages/sklearn/linear_model/_coordinate_descent.py:476: ConvergenceWarning: Objective did not converge. You might want to increase the number of iterations. Duality gap: 29583329.42801324, tolerance: 8603.526946972177\n",
      "  positive)\n",
      "/usr/local/lib/python3.7/dist-packages/sklearn/linear_model/_coordinate_descent.py:476: ConvergenceWarning: Objective did not converge. You might want to increase the number of iterations. Duality gap: 23667170.96688835, tolerance: 6954.084797708674\n",
      "  positive)\n",
      "/usr/local/lib/python3.7/dist-packages/sklearn/linear_model/_coordinate_descent.py:476: ConvergenceWarning: Objective did not converge. You might want to increase the number of iterations. Duality gap: 26471551.53588141, tolerance: 7031.187491325696\n",
      "  positive)\n",
      "/usr/local/lib/python3.7/dist-packages/sklearn/linear_model/_coordinate_descent.py:476: ConvergenceWarning: Objective did not converge. You might want to increase the number of iterations. Duality gap: 26769135.37139704, tolerance: 7873.138546972177\n",
      "  positive)\n",
      "/usr/local/lib/python3.7/dist-packages/sklearn/linear_model/_coordinate_descent.py:476: ConvergenceWarning: Objective did not converge. You might want to increase the number of iterations. Duality gap: 24504365.491690814, tolerance: 7159.640722058824\n",
      "  positive)\n",
      "/usr/local/lib/python3.7/dist-packages/sklearn/linear_model/_coordinate_descent.py:476: ConvergenceWarning: Objective did not converge. You might want to increase the number of iterations. Duality gap: 29583834.964946188, tolerance: 8603.526946972177\n",
      "  positive)\n",
      "/usr/local/lib/python3.7/dist-packages/sklearn/linear_model/_coordinate_descent.py:476: ConvergenceWarning: Objective did not converge. You might want to increase the number of iterations. Duality gap: 23667893.95075771, tolerance: 6954.084797708674\n",
      "  positive)\n",
      "/usr/local/lib/python3.7/dist-packages/sklearn/linear_model/_coordinate_descent.py:476: ConvergenceWarning: Objective did not converge. You might want to increase the number of iterations. Duality gap: 26471769.323831156, tolerance: 7031.187491325696\n",
      "  positive)\n",
      "/usr/local/lib/python3.7/dist-packages/sklearn/linear_model/_coordinate_descent.py:476: ConvergenceWarning: Objective did not converge. You might want to increase the number of iterations. Duality gap: 26765490.45945574, tolerance: 7873.138546972177\n",
      "  positive)\n",
      "/usr/local/lib/python3.7/dist-packages/sklearn/linear_model/_coordinate_descent.py:476: ConvergenceWarning: Objective did not converge. You might want to increase the number of iterations. Duality gap: 24504529.27922915, tolerance: 7159.640722058824\n",
      "  positive)\n",
      "/usr/local/lib/python3.7/dist-packages/sklearn/linear_model/_coordinate_descent.py:476: ConvergenceWarning: Objective did not converge. You might want to increase the number of iterations. Duality gap: 29584647.18292267, tolerance: 8603.526946972177\n",
      "  positive)\n",
      "/usr/local/lib/python3.7/dist-packages/sklearn/linear_model/_coordinate_descent.py:476: ConvergenceWarning: Objective did not converge. You might want to increase the number of iterations. Duality gap: 23669052.33538791, tolerance: 6954.084797708674\n",
      "  positive)\n",
      "/usr/local/lib/python3.7/dist-packages/sklearn/linear_model/_coordinate_descent.py:476: ConvergenceWarning: Objective did not converge. You might want to increase the number of iterations. Duality gap: 26472119.09681301, tolerance: 7031.187491325696\n",
      "  positive)\n",
      "/usr/local/lib/python3.7/dist-packages/sklearn/linear_model/_coordinate_descent.py:476: ConvergenceWarning: Objective did not converge. You might want to increase the number of iterations. Duality gap: 26759630.899495494, tolerance: 7873.138546972177\n",
      "  positive)\n",
      "/usr/local/lib/python3.7/dist-packages/sklearn/linear_model/_coordinate_descent.py:476: ConvergenceWarning: Objective did not converge. You might want to increase the number of iterations. Duality gap: 24504784.459695857, tolerance: 7159.640722058824\n",
      "  positive)\n",
      "/usr/local/lib/python3.7/dist-packages/sklearn/linear_model/_coordinate_descent.py:476: ConvergenceWarning: Objective did not converge. You might want to increase the number of iterations. Duality gap: 29585952.909593415, tolerance: 8603.526946972177\n",
      "  positive)\n",
      "/usr/local/lib/python3.7/dist-packages/sklearn/linear_model/_coordinate_descent.py:476: ConvergenceWarning: Objective did not converge. You might want to increase the number of iterations. Duality gap: 23670906.93118536, tolerance: 6954.084797708674\n",
      "  positive)\n",
      "/usr/local/lib/python3.7/dist-packages/sklearn/linear_model/_coordinate_descent.py:476: ConvergenceWarning: Objective did not converge. You might want to increase the number of iterations. Duality gap: 26472681.14707806, tolerance: 7031.187491325696\n",
      "  positive)\n",
      "/usr/local/lib/python3.7/dist-packages/sklearn/linear_model/_coordinate_descent.py:476: ConvergenceWarning: Objective did not converge. You might want to increase the number of iterations. Duality gap: 26750198.76039072, tolerance: 7873.138546972177\n",
      "  positive)\n",
      "/usr/local/lib/python3.7/dist-packages/sklearn/linear_model/_coordinate_descent.py:476: ConvergenceWarning: Objective did not converge. You might want to increase the number of iterations. Duality gap: 24505173.911820583, tolerance: 7159.640722058824\n",
      "  positive)\n",
      "/usr/local/lib/python3.7/dist-packages/sklearn/linear_model/_coordinate_descent.py:476: ConvergenceWarning: Objective did not converge. You might want to increase the number of iterations. Duality gap: 29588055.059337597, tolerance: 8603.526946972177\n",
      "  positive)\n",
      "/usr/local/lib/python3.7/dist-packages/sklearn/linear_model/_coordinate_descent.py:476: ConvergenceWarning: Objective did not converge. You might want to increase the number of iterations. Duality gap: 23673872.419274382, tolerance: 6954.084797708674\n",
      "  positive)\n",
      "/usr/local/lib/python3.7/dist-packages/sklearn/linear_model/_coordinate_descent.py:476: ConvergenceWarning: Objective did not converge. You might want to increase the number of iterations. Duality gap: 26473585.379034843, tolerance: 7031.187491325696\n",
      "  positive)\n",
      "/usr/local/lib/python3.7/dist-packages/sklearn/linear_model/_coordinate_descent.py:476: ConvergenceWarning: Objective did not converge. You might want to increase the number of iterations. Duality gap: 26734986.751272265, tolerance: 7873.138546972177\n",
      "  positive)\n",
      "/usr/local/lib/python3.7/dist-packages/sklearn/linear_model/_coordinate_descent.py:476: ConvergenceWarning: Objective did not converge. You might want to increase the number of iterations. Duality gap: 24505748.346549213, tolerance: 7159.640722058824\n",
      "  positive)\n",
      "/usr/local/lib/python3.7/dist-packages/sklearn/linear_model/_coordinate_descent.py:476: ConvergenceWarning: Objective did not converge. You might want to increase the number of iterations. Duality gap: 29591445.75350909, tolerance: 8603.526946972177\n",
      "  positive)\n",
      "/usr/local/lib/python3.7/dist-packages/sklearn/linear_model/_coordinate_descent.py:476: ConvergenceWarning: Objective did not converge. You might want to increase the number of iterations. Duality gap: 23678604.263970003, tolerance: 6954.084797708674\n",
      "  positive)\n",
      "/usr/local/lib/python3.7/dist-packages/sklearn/linear_model/_coordinate_descent.py:476: ConvergenceWarning: Objective did not converge. You might want to increase the number of iterations. Duality gap: 26475039.41083862, tolerance: 7031.187491325696\n",
      "  positive)\n",
      "/usr/local/lib/python3.7/dist-packages/sklearn/linear_model/_coordinate_descent.py:476: ConvergenceWarning: Objective did not converge. You might want to increase the number of iterations. Duality gap: 26710370.97057809, tolerance: 7873.138546972177\n",
      "  positive)\n",
      "/usr/local/lib/python3.7/dist-packages/sklearn/linear_model/_coordinate_descent.py:476: ConvergenceWarning: Objective did not converge. You might want to increase the number of iterations. Duality gap: 24506535.038296144, tolerance: 7159.640722058824\n",
      "  positive)\n",
      "/usr/local/lib/python3.7/dist-packages/sklearn/linear_model/_coordinate_descent.py:476: ConvergenceWarning: Objective did not converge. You might want to increase the number of iterations. Duality gap: 29596927.679841492, tolerance: 8603.526946972177\n",
      "  positive)\n",
      "/usr/local/lib/python3.7/dist-packages/sklearn/linear_model/_coordinate_descent.py:476: ConvergenceWarning: Objective did not converge. You might want to increase the number of iterations. Duality gap: 23686127.460222512, tolerance: 6954.084797708674\n",
      "  positive)\n",
      "/usr/local/lib/python3.7/dist-packages/sklearn/linear_model/_coordinate_descent.py:476: ConvergenceWarning: Objective did not converge. You might want to increase the number of iterations. Duality gap: 26477380.161647707, tolerance: 7031.187491325696\n",
      "  positive)\n",
      "/usr/local/lib/python3.7/dist-packages/sklearn/linear_model/_coordinate_descent.py:476: ConvergenceWarning: Objective did not converge. You might want to increase the number of iterations. Duality gap: 26670334.53579533, tolerance: 7873.138546972177\n",
      "  positive)\n",
      "/usr/local/lib/python3.7/dist-packages/sklearn/linear_model/_coordinate_descent.py:476: ConvergenceWarning: Objective did not converge. You might want to increase the number of iterations. Duality gap: 24507447.337907825, tolerance: 7159.640722058824\n",
      "  positive)\n",
      "/usr/local/lib/python3.7/dist-packages/sklearn/linear_model/_coordinate_descent.py:476: ConvergenceWarning: Objective did not converge. You might want to increase the number of iterations. Duality gap: 29605808.650888704, tolerance: 8603.526946972177\n",
      "  positive)\n",
      "/usr/local/lib/python3.7/dist-packages/sklearn/linear_model/_coordinate_descent.py:476: ConvergenceWarning: Objective did not converge. You might want to increase the number of iterations. Duality gap: 23698017.38474937, tolerance: 6954.084797708674\n",
      "  positive)\n",
      "/usr/local/lib/python3.7/dist-packages/sklearn/linear_model/_coordinate_descent.py:476: ConvergenceWarning: Objective did not converge. You might want to increase the number of iterations. Duality gap: 26481138.651531473, tolerance: 7031.187491325696\n",
      "  positive)\n",
      "/usr/local/lib/python3.7/dist-packages/sklearn/linear_model/_coordinate_descent.py:476: ConvergenceWarning: Objective did not converge. You might want to increase the number of iterations. Duality gap: 26617694.01779621, tolerance: 7873.138546972177\n",
      "  positive)\n",
      "/usr/local/lib/python3.7/dist-packages/sklearn/linear_model/_coordinate_descent.py:476: ConvergenceWarning: Objective did not converge. You might want to increase the number of iterations. Duality gap: 24507975.523830768, tolerance: 7159.640722058824\n",
      "  positive)\n",
      "/usr/local/lib/python3.7/dist-packages/sklearn/linear_model/_coordinate_descent.py:476: ConvergenceWarning: Objective did not converge. You might want to increase the number of iterations. Duality gap: 29620209.716998987, tolerance: 8603.526946972177\n",
      "  positive)\n",
      "/usr/local/lib/python3.7/dist-packages/sklearn/linear_model/_coordinate_descent.py:476: ConvergenceWarning: Objective did not converge. You might want to increase the number of iterations. Duality gap: 23716604.983235843, tolerance: 6954.084797708674\n",
      "  positive)\n",
      "/usr/local/lib/python3.7/dist-packages/sklearn/linear_model/_coordinate_descent.py:476: ConvergenceWarning: Objective did not converge. You might want to increase the number of iterations. Duality gap: 26487116.45399909, tolerance: 7031.187491325696\n",
      "  positive)\n",
      "/usr/local/lib/python3.7/dist-packages/sklearn/linear_model/_coordinate_descent.py:476: ConvergenceWarning: Objective did not converge. You might want to increase the number of iterations. Duality gap: 26572348.457696177, tolerance: 7873.138546972177\n",
      "  positive)\n",
      "/usr/local/lib/python3.7/dist-packages/sklearn/linear_model/_coordinate_descent.py:476: ConvergenceWarning: Objective did not converge. You might want to increase the number of iterations. Duality gap: 24507723.990645498, tolerance: 7159.640722058824\n",
      "  positive)\n",
      "/usr/local/lib/python3.7/dist-packages/sklearn/linear_model/_coordinate_descent.py:476: ConvergenceWarning: Objective did not converge. You might want to increase the number of iterations. Duality gap: 29643458.326590855, tolerance: 8603.526946972177\n",
      "  positive)\n",
      "/usr/local/lib/python3.7/dist-packages/sklearn/linear_model/_coordinate_descent.py:476: ConvergenceWarning: Objective did not converge. You might want to increase the number of iterations. Duality gap: 23745067.855350405, tolerance: 6954.084797708674\n",
      "  positive)\n",
      "/usr/local/lib/python3.7/dist-packages/sklearn/linear_model/_coordinate_descent.py:476: ConvergenceWarning: Objective did not converge. You might want to increase the number of iterations. Duality gap: 26496328.753228363, tolerance: 7031.187491325696\n",
      "  positive)\n",
      "/usr/local/lib/python3.7/dist-packages/sklearn/linear_model/_coordinate_descent.py:476: ConvergenceWarning: Objective did not converge. You might want to increase the number of iterations. Duality gap: 26536370.55574953, tolerance: 7873.138546972177\n",
      "  positive)\n",
      "/usr/local/lib/python3.7/dist-packages/sklearn/linear_model/_coordinate_descent.py:476: ConvergenceWarning: Objective did not converge. You might want to increase the number of iterations. Duality gap: 24503941.796129096, tolerance: 7159.640722058824\n",
      "  positive)\n",
      "/usr/local/lib/python3.7/dist-packages/sklearn/linear_model/_coordinate_descent.py:476: ConvergenceWarning: Objective did not converge. You might want to increase the number of iterations. Duality gap: 29680160.68646545, tolerance: 8603.526946972177\n",
      "  positive)\n",
      "/usr/local/lib/python3.7/dist-packages/sklearn/linear_model/_coordinate_descent.py:476: ConvergenceWarning: Objective did not converge. You might want to increase the number of iterations. Duality gap: 23777622.142676372, tolerance: 6954.084797708674\n",
      "  positive)\n",
      "/usr/local/lib/python3.7/dist-packages/sklearn/linear_model/_coordinate_descent.py:476: ConvergenceWarning: Objective did not converge. You might want to increase the number of iterations. Duality gap: 26513232.82600508, tolerance: 7031.187491325696\n",
      "  positive)\n",
      "/usr/local/lib/python3.7/dist-packages/sklearn/linear_model/_coordinate_descent.py:476: ConvergenceWarning: Objective did not converge. You might want to increase the number of iterations. Duality gap: 26529190.525856934, tolerance: 7873.138546972177\n",
      "  positive)\n",
      "/usr/local/lib/python3.7/dist-packages/sklearn/linear_model/_coordinate_descent.py:476: ConvergenceWarning: Objective did not converge. You might want to increase the number of iterations. Duality gap: 24495630.421249274, tolerance: 7159.640722058824\n",
      "  positive)\n",
      "/usr/local/lib/python3.7/dist-packages/sklearn/linear_model/_coordinate_descent.py:476: ConvergenceWarning: Objective did not converge. You might want to increase the number of iterations. Duality gap: 29564539.74644558, tolerance: 8603.526946972177\n",
      "  positive)\n",
      "/usr/local/lib/python3.7/dist-packages/sklearn/linear_model/_coordinate_descent.py:476: ConvergenceWarning: Objective did not converge. You might want to increase the number of iterations. Duality gap: 23853623.91876012, tolerance: 6954.084797708674\n",
      "  positive)\n",
      "/usr/local/lib/python3.7/dist-packages/sklearn/linear_model/_coordinate_descent.py:476: ConvergenceWarning: Objective did not converge. You might want to increase the number of iterations. Duality gap: 26535959.93641959, tolerance: 7031.187491325696\n",
      "  positive)\n",
      "/usr/local/lib/python3.7/dist-packages/sklearn/linear_model/_coordinate_descent.py:476: ConvergenceWarning: Objective did not converge. You might want to increase the number of iterations. Duality gap: 26451338.53235208, tolerance: 7873.138546972177\n",
      "  positive)\n",
      "/usr/local/lib/python3.7/dist-packages/sklearn/linear_model/_coordinate_descent.py:476: ConvergenceWarning: Objective did not converge. You might want to increase the number of iterations. Duality gap: 24433411.403228886, tolerance: 7159.640722058824\n",
      "  positive)\n",
      "/usr/local/lib/python3.7/dist-packages/sklearn/linear_model/_coordinate_descent.py:476: ConvergenceWarning: Objective did not converge. You might want to increase the number of iterations. Duality gap: 29729510.924685773, tolerance: 8603.526946972177\n",
      "  positive)\n",
      "/usr/local/lib/python3.7/dist-packages/sklearn/linear_model/_coordinate_descent.py:476: ConvergenceWarning: Objective did not converge. You might want to increase the number of iterations. Duality gap: 23924158.09664132, tolerance: 6954.084797708674\n",
      "  positive)\n",
      "/usr/local/lib/python3.7/dist-packages/sklearn/linear_model/_coordinate_descent.py:476: ConvergenceWarning: Objective did not converge. You might want to increase the number of iterations. Duality gap: 26571186.714655224, tolerance: 7031.187491325696\n",
      "  positive)\n",
      "/usr/local/lib/python3.7/dist-packages/sklearn/linear_model/_coordinate_descent.py:476: ConvergenceWarning: Objective did not converge. You might want to increase the number of iterations. Duality gap: 26281462.335935533, tolerance: 7873.138546972177\n",
      "  positive)\n",
      "/usr/local/lib/python3.7/dist-packages/sklearn/linear_model/_coordinate_descent.py:476: ConvergenceWarning: Objective did not converge. You might want to increase the number of iterations. Duality gap: 24082706.755839255, tolerance: 7159.640722058824\n",
      "  positive)\n",
      "/usr/local/lib/python3.7/dist-packages/sklearn/linear_model/_coordinate_descent.py:476: ConvergenceWarning: Objective did not converge. You might want to increase the number of iterations. Duality gap: 29896368.099483054, tolerance: 8603.526946972177\n",
      "  positive)\n",
      "/usr/local/lib/python3.7/dist-packages/sklearn/linear_model/_coordinate_descent.py:476: ConvergenceWarning: Objective did not converge. You might want to increase the number of iterations. Duality gap: 24070145.92256622, tolerance: 6954.084797708674\n",
      "  positive)\n",
      "/usr/local/lib/python3.7/dist-packages/sklearn/linear_model/_coordinate_descent.py:476: ConvergenceWarning: Objective did not converge. You might want to increase the number of iterations. Duality gap: 26575973.26026937, tolerance: 7031.187491325696\n",
      "  positive)\n",
      "/usr/local/lib/python3.7/dist-packages/sklearn/linear_model/_coordinate_descent.py:476: ConvergenceWarning: Objective did not converge. You might want to increase the number of iterations. Duality gap: 25325301.795863464, tolerance: 7873.138546972177\n",
      "  positive)\n",
      "/usr/local/lib/python3.7/dist-packages/sklearn/linear_model/_coordinate_descent.py:476: ConvergenceWarning: Objective did not converge. You might want to increase the number of iterations. Duality gap: 16538794.969640333, tolerance: 7159.640722058824\n",
      "  positive)\n",
      "/usr/local/lib/python3.7/dist-packages/sklearn/linear_model/_coordinate_descent.py:476: ConvergenceWarning: Objective did not converge. You might want to increase the number of iterations. Duality gap: 29943606.583531354, tolerance: 8603.526946972177\n",
      "  positive)\n",
      "/usr/local/lib/python3.7/dist-packages/sklearn/linear_model/_coordinate_descent.py:476: ConvergenceWarning: Objective did not converge. You might want to increase the number of iterations. Duality gap: 24110511.056903325, tolerance: 6954.084797708674\n",
      "  positive)\n",
      "/usr/local/lib/python3.7/dist-packages/sklearn/linear_model/_coordinate_descent.py:476: ConvergenceWarning: Objective did not converge. You might want to increase the number of iterations. Duality gap: 26477839.411364455, tolerance: 7031.187491325696\n",
      "  positive)\n",
      "/usr/local/lib/python3.7/dist-packages/sklearn/linear_model/_coordinate_descent.py:476: ConvergenceWarning: Objective did not converge. You might want to increase the number of iterations. Duality gap: 21635434.45418478, tolerance: 7873.138546972177\n",
      "  positive)\n",
      "/usr/local/lib/python3.7/dist-packages/sklearn/linear_model/_coordinate_descent.py:476: ConvergenceWarning: Objective did not converge. You might want to increase the number of iterations. Duality gap: 17693724.13410689, tolerance: 7159.640722058824\n",
      "  positive)\n",
      "/usr/local/lib/python3.7/dist-packages/sklearn/linear_model/_coordinate_descent.py:476: ConvergenceWarning: Objective did not converge. You might want to increase the number of iterations. Duality gap: 33328493.1324646, tolerance: 9407.850767931937\n",
      "  positive)\n"
     ]
    }
   ],
   "source": [
    "params = {\"alpha\": np.logspace(-4, -.1, 20)}\n",
    "GS = GridSearchCV(Lasso(), param_grid=params, cv=kf, return_train_score=False)\n",
    "GS.fit(X_train_poly_scaled, y_train);"
   ]
  },
  {
   "cell_type": "code",
   "execution_count": null,
   "metadata": {
    "colab": {
     "base_uri": "https://localhost:8080/"
    },
    "id": "Or2heBtJo56b",
    "outputId": "207b2df2-5465-42b9-e520-a2950bc2dd10"
   },
   "outputs": [
    {
     "data": {
      "text/plain": [
       "0.0004380999789821427"
      ]
     },
     "execution_count": 236,
     "metadata": {},
     "output_type": "execute_result"
    }
   ],
   "source": [
    "lasso = LassoCV(GS.best_estimator_.alpha)\n",
    "lasso.fit(X_train_poly_scaled,y_train)\n",
    "lasso.score(X_train_poly_scaled,y_train)"
   ]
  },
  {
   "cell_type": "code",
   "execution_count": null,
   "metadata": {
    "colab": {
     "base_uri": "https://localhost:8080/"
    },
    "id": "4szXTTFGplAy",
    "outputId": "8b68e3a9-9fc9-4e33-8276-648932d838aa"
   },
   "outputs": [
    {
     "data": {
      "text/plain": [
       "0.15134223981145378"
      ]
     },
     "execution_count": 237,
     "metadata": {},
     "output_type": "execute_result"
    }
   ],
   "source": [
    "poly = PolynomialFeatures(degree=3)\n",
    "X_poly = poly.fit_transform(X1)\n",
    "\n",
    "scaler = StandardScaler()\n",
    "X_poly_scaled = scaler.fit_transform(X_poly)\n",
    "\n",
    "lasso = LassoCV(GS.best_estimator_.alpha)\n",
    "lasso.fit(X_poly_scaled,y)\n",
    "\n",
    "# Apply the same polynomial and scaling transformations to test set, then score\n",
    "X_test_poly = poly.transform(X_test)\n",
    "X_test_poly_scaled = scaler.transform(X_test_poly)\n",
    "\n",
    "lasso.score(X_test_poly_scaled, y_test)"
   ]
  },
  {
   "cell_type": "markdown",
   "metadata": {
    "id": "7cfcOVs8pNOA"
   },
   "source": [
    "## Elastic Regularazation"
   ]
  },
  {
   "cell_type": "code",
   "execution_count": null,
   "metadata": {
    "colab": {
     "base_uri": "https://localhost:8080/"
    },
    "id": "2DeGblKIpNOB",
    "outputId": "3a549118-6324-415f-8cfa-e43a31e75296"
   },
   "outputs": [
    {
     "data": {
      "text/plain": [
       "0.07435800345929877"
      ]
     },
     "execution_count": 240,
     "metadata": {},
     "output_type": "execute_result"
    }
   ],
   "source": [
    "from sklearn.linear_model import ElasticNetCV\n",
    "elastic = ElasticNetCV(GS.best_estimator_.alpha)\n",
    "elastic.fit(X_train_poly_scaled,y_train)\n",
    "elastic.score(X_train_poly_scaled,y_train)"
   ]
  },
  {
   "cell_type": "code",
   "execution_count": null,
   "metadata": {
    "colab": {
     "base_uri": "https://localhost:8080/"
    },
    "id": "IQsEC9FppbGF",
    "outputId": "37940d6c-23d8-4206-b757-90184d0ab775"
   },
   "outputs": [
    {
     "data": {
      "text/plain": [
       "0.32283680773276424"
      ]
     },
     "execution_count": 241,
     "metadata": {},
     "output_type": "execute_result"
    }
   ],
   "source": [
    "poly = PolynomialFeatures(degree=4)\n",
    "X_poly = poly.fit_transform(X1)\n",
    "\n",
    "scaler = StandardScaler()\n",
    "X_poly_scaled = scaler.fit_transform(X_poly)\n",
    "\n",
    "\n",
    "elastic.fit(X_poly_scaled,y)\n",
    "\n",
    "# Apply the same polynomial and scaling transformations to test set, then score\n",
    "X_test_poly = poly.transform(X_test)\n",
    "X_test_poly_scaled = scaler.transform(X_test_poly)\n",
    "\n",
    "elastic.score(X_test_poly_scaled, y_test)"
   ]
  },
  {
   "cell_type": "code",
   "execution_count": null,
   "metadata": {
    "id": "hIG2Z25SqGxv"
   },
   "outputs": [],
   "source": []
  },
  {
   "cell_type": "markdown",
   "metadata": {
    "id": "GpAijNMHqHlW"
   },
   "source": [
    "## Pipelining with multipule regression types"
   ]
  },
  {
   "cell_type": "code",
   "execution_count": null,
   "metadata": {
    "id": "9Cmf4K_vqVOr"
   },
   "outputs": [],
   "source": []
  },
  {
   "cell_type": "markdown",
   "metadata": {
    "id": "AiqcIbyBNujv"
   },
   "source": [
    "# Testing"
   ]
  },
  {
   "cell_type": "markdown",
   "metadata": {
    "id": "nDS8z-CwcL34"
   },
   "source": [
    "Random forest "
   ]
  },
  {
   "cell_type": "code",
   "execution_count": null,
   "metadata": {
    "id": "-GWJCj4YccT1"
   },
   "outputs": [],
   "source": [
    "predictions = m2.predict(X_test)\n",
    "# Calculate the absolute errors\n",
    "errors = abs(predictions -  y_test)\n",
    "# Print out the mean absolute error (mae)\n",
    "print('Mean Absolute Error:', round(np.mean(errors), 2), 'degrees.')\n"
   ]
  },
  {
   "cell_type": "code",
   "execution_count": null,
   "metadata": {
    "id": "2lAyxqRUccT2"
   },
   "outputs": [],
   "source": [
    "mape = 100 * (errors / y_test)\n",
    "# Calculate and display accuracy\n",
    "accuracy = 100 - np.mean(mape)\n",
    "print('Accuracy:', round(accuracy, 2), '%.')\n"
   ]
  }
 ],
 "metadata": {
  "colab": {
   "collapsed_sections": [
    "p4YPVbYi2C4A",
    "HOAryx2M2kSN",
    "LxWnbt-hNujs",
    "o3z1ZzMKgF2Q",
    "R0VClPlogMxP",
    "b6lefzXkhIyw",
    "3l6fhs_6Nujt",
    "jCDeQzJWSGul",
    "BOHJgMHejiTS",
    "rcviy3RaNuju",
    "7lG-LUYTosW9",
    "7cfcOVs8pNOA",
    "GpAijNMHqHlW"
   ],
   "name": "Models.ipynb",
   "provenance": []
  },
  "interpreter": {
   "hash": "7f08b521452f3756f721d1ff40bf03d0299ea7407c9684d953196a8d4ad776c6"
  },
  "kernelspec": {
   "display_name": "Python 3",
   "language": "python",
   "name": "python3"
  },
  "language_info": {
   "codemirror_mode": {
    "name": "ipython",
    "version": 3
   },
   "file_extension": ".py",
   "mimetype": "text/x-python",
   "name": "python",
   "nbconvert_exporter": "python",
   "pygments_lexer": "ipython3",
   "version": "3.8.8"
  },
  "toc": {
   "base_numbering": 1,
   "nav_menu": {},
   "number_sections": true,
   "sideBar": true,
   "skip_h1_title": false,
   "title_cell": "Table of Contents",
   "title_sidebar": "Contents",
   "toc_cell": false,
   "toc_position": {},
   "toc_section_display": true,
   "toc_window_display": false
  },
  "varInspector": {
   "cols": {
    "lenName": 16,
    "lenType": 16,
    "lenVar": 40
   },
   "kernels_config": {
    "python": {
     "delete_cmd_postfix": "",
     "delete_cmd_prefix": "del ",
     "library": "var_list.py",
     "varRefreshCmd": "print(var_dic_list())"
    },
    "r": {
     "delete_cmd_postfix": ") ",
     "delete_cmd_prefix": "rm(",
     "library": "var_list.r",
     "varRefreshCmd": "cat(var_dic_list()) "
    }
   },
   "types_to_exclude": [
    "module",
    "function",
    "builtin_function_or_method",
    "instance",
    "_Feature"
   ],
   "window_display": false
  }
 },
 "nbformat": 4,
 "nbformat_minor": 1
}
