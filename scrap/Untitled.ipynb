{
 "cells": [
  {
   "cell_type": "code",
   "execution_count": 7,
   "id": "c99343ea-0861-41d5-a94a-a56bb07e9537",
   "metadata": {},
   "outputs": [
    {
     "name": "stdout",
     "output_type": "stream",
     "text": [
      "Downloading https://www.booking.com/searchresults.en-gb.html?label=gen173nr-1FCAEoggI46AdIM1gEaKQCiAEBmAEJuAEHyAEM2AEB6AEB-AEMiAIBqAIDuALCxJ31BcACAdgCAg&sid=b708c8a39617a16bdfd4b3bb35c5f955&aid=304142&lang=en-gb&src=searchresults&error_url=https%3A%2F%2Fwww.booking.com%2Fsearchresults.en-gb.html%3Faid%3D304142%3Blabel%3Dgen173nr-1FCAEoggI46AdIM1gEaKQCiAEBmAEJuAEHyAEM2AEB6AEB-AEMiAIBqAIDuALCxJ31BcACAdgCAg%3Bsid%3Db708c8a39617a16bdfd4b3bb35c5f955%3Btmpl%3Dsearchresults%3Bac_click_type%3Db%3Bac_position%3D0%3Bcheckin_month%3D10%3Bcheckin_monthday%3D28%3Bcheckin_year%3D2021%3Bcheckout_month%3D10%3Bcheckout_monthday%3D29%3Bcheckout_year%3D2021%3Bclass_interval%3D1%3Bdest_id%3D-3093456%3Bdest_type%3Dcity%3Bdtdisc%3D0%3Bfrom_sf%3D1%3Bgroup_adults%3D2%3Bgroup_children%3D0%3Biata%3DTIF%3Binac%3D0%3Bindex_postcard%3D0%3Blabel_click%3Dundef%3Bno_rooms%3D1%3Boffset%3D0%3Bpostcard%3D0%3Braw_dest_type%3Dcity%3Broom1%3DA%252CA%3Bsb_price_type%3Dtotal%3Bsb_travel_purpose%3Dbusiness%3Bsearch_selected%3D1%3Bshw_aparth%3D1%3Bslp_r_match%3D0%3Bsrc%3Dsearchresults%3Bsrc_elem%3Dsb%3Bsrpvid%3D50be3ccfeb7500e7%3Bss%3DTaif%252C%2520Makkah%2520Al%2520Mukarramah%2520Province%252C%2520Saudi%2520Arabia%3Bss_all%3D0%3Bss_raw%3DTa%3Bssb%3Dempty%3Bsshis%3D0%3Bssne%3DSaudi%2520Arabia%3Bssne_untouched%3DSaudi%2520Arabia%3Btop_ufis%3D1%26%3B&ss=Riyadh%2C+Riyadh+Province%2C+Saudi+Arabia&is_ski_area=&ssne=Taif&ssne_untouched=Taif&city=-3093456&checkin_year=2021&checkin_month=10&checkin_monthday=28&checkout_year=2021&checkout_month=10&checkout_monthday=29&group_adults=2&group_children=0&no_rooms=1&sb_travel_purpose=business&sb_changed_group=1&sb_changed_destination=1&from_sf=1&ss_raw=r&ac_position=0&ac_langcode=en&ac_click_type=b&dest_id=900040280&dest_type=city&iata=RUH&place_id_lat=24.695129&place_id_lon=46.680566&search_pageview_id=50be3ccfeb7500e7&search_selected=true&search_pageview_id=50be3ccfeb7500e7&ac_suggestion_list_length=5&ac_suggestion_theme_list_length=0&nflt=tdb%3D2%3Btdb%3D3%3Bht_id%3D204&offset=00\n",
      "\n"
     ]
    },
    {
     "ename": "TypeError",
     "evalue": "'NoneType' object is not iterable",
     "output_type": "error",
     "traceback": [
      "\u001b[0;31m---------------------------------------------------------------------------\u001b[0m",
      "\u001b[0;31mTypeError\u001b[0m                                 Traceback (most recent call last)",
      "\u001b[0;32m/var/folders/2n/g33c62m97_b_w64yvq5j2fyh0000gn/T/ipykernel_7082/3166713972.py\u001b[0m in \u001b[0;36m<module>\u001b[0;34m\u001b[0m\n\u001b[1;32m     49\u001b[0m         \u001b[0mdata\u001b[0m \u001b[0;34m=\u001b[0m \u001b[0mscrape\u001b[0m\u001b[0;34m(\u001b[0m\u001b[0murl\u001b[0m\u001b[0;34m)\u001b[0m\u001b[0;34m\u001b[0m\u001b[0;34m\u001b[0m\u001b[0m\n\u001b[1;32m     50\u001b[0m         \u001b[0;32mif\u001b[0m \u001b[0mdata\u001b[0m\u001b[0;34m:\u001b[0m\u001b[0;34m\u001b[0m\u001b[0;34m\u001b[0m\u001b[0m\n\u001b[0;32m---> 51\u001b[0;31m             \u001b[0;32mfor\u001b[0m \u001b[0mh\u001b[0m \u001b[0;32min\u001b[0m \u001b[0mdata\u001b[0m\u001b[0;34m[\u001b[0m\u001b[0;34m'hotels'\u001b[0m\u001b[0;34m]\u001b[0m\u001b[0;34m:\u001b[0m\u001b[0;34m\u001b[0m\u001b[0;34m\u001b[0m\u001b[0m\n\u001b[0m\u001b[1;32m     52\u001b[0m                 \u001b[0mwriter7writerow\u001b[0m\u001b[0;34m(\u001b[0m\u001b[0mh\u001b[0m\u001b[0;34m)\u001b[0m\u001b[0;34m\u001b[0m\u001b[0;34m\u001b[0m\u001b[0m\n\u001b[1;32m     53\u001b[0m                 \u001b[0msleep\u001b[0m\u001b[0;34m(\u001b[0m\u001b[0;36m4\u001b[0m\u001b[0;34m)\u001b[0m\u001b[0;34m\u001b[0m\u001b[0;34m\u001b[0m\u001b[0m\n",
      "\u001b[0;31mTypeError\u001b[0m: 'NoneType' object is not iterable"
     ]
    }
   ],
   "source": [
    "from selectorlib import Extractor\n",
    "import requests \n",
    "from time import sleep\n",
    "import csv\n",
    "\n",
    "\n",
    "def scrape(url):    \n",
    "    headers = {\n",
    "        'Connection': 'keep-alive',\n",
    "        'Pragma': 'no-cache',\n",
    "        'Cache-Control': 'no-cache',\n",
    "        'DNT': '1',\n",
    "        'Upgrade-Insecure-Requests': '1',\n",
    "        #  if  blocked\n",
    "        'User-Agent': 'Mozilla/5.0 (Macintosh; Intel Mac OS X 10_15_4) AppleWebKit/537.36 (KHTML, like Gecko) Chrome/81.0.4044.113 Safari/537.36',\n",
    "        'Accept': 'text/html,application/xhtml+xml,application/xml;q=0.9,image/webp,image/apng,*/*;q=0.8,application/signed-exchange;v=b3;q=0.9',\n",
    "\n",
    "        'Referer': 'https://www.booking.com/index.en-gb.html',\n",
    "        'Accept-Language': 'en-GB,en-US;q=0.9,en;q=0.8',\n",
    "    }\n",
    "# Mozilla/5.0 (Macintosh; Intel Mac OS X 10_15_4) AppleWebKit/537.36 (KHTML, like Gecko) Chrome/81.0.4044.113 Safari/537.36\n",
    "    # Download the page using requests\n",
    "    print(\"Downloading %s\"%url)\n",
    "    r = requests.get(url, headers=headers)\n",
    "    # Pass the HTML of the page and create \n",
    "    return e.extract(r.text,base_url=url)\n",
    "\n",
    "# product_data = []\n",
    "\n",
    "with open(\"urls.txt\",'r') as urllist, open('data.csv','w') as outfile:\n",
    "    fieldnames = [\n",
    "        \"name\",\n",
    "        \"location\",\n",
    "        \"price\",\n",
    "        \"price_for\",\n",
    "        \"room_type\",\n",
    "        \"beds\",\n",
    "        \"rating\",\n",
    "        \"rating_title\",\n",
    "        \"number_of_ratings\",\n",
    "        \"url\",\n",
    "        \"cm\"\n",
    "    ]\n",
    "    writer = csv.DictWriter(outfile, fieldnames=fieldnames,quoting=csv.QUOTE_ALL)\n",
    "    writer.writeheader()\n",
    "    for url in urllist.readlines():\n",
    "        data = scrape(url) \n",
    "        if data:\n",
    "            for h in data['hotels']:\n",
    "                writer7writerow(h)\n",
    "                sleep(4)\n",
    "    "
   ]
  },
  {
   "cell_type": "code",
   "execution_count": null,
   "id": "4affdc18-6089-48d5-97cf-58433a45da4f",
   "metadata": {},
   "outputs": [],
   "source": [
    "import pandas as pd"
   ]
  },
  {
   "cell_type": "code",
   "execution_count": null,
   "id": "ed7e6593-2bcf-4fb0-8582-3b99648d3f8d",
   "metadata": {},
   "outputs": [],
   "source": [
    "df = pd.concat(\n",
    "    map(pd.read_csv,['data-Copy1.csv', 'data-Copy2.csv', 'data-Copy3.csv', 'data-Copy4.csv', 'data-Copy5.csv', 'data-Copy6.csv', 'data-Copy7.csv',\n",
    "                     'data-Copy8.csv', 'data-Copy9.csv',\n",
    "                     'data-Copy10.csv', 'data-Copy11.csv']),ignore_index=True)\n",
    "\n",
    "\n",
    "\n",
    "print(df)"
   ]
  },
  {
   "cell_type": "code",
   "execution_count": null,
   "id": "5bb866c2-b9a8-48b5-b326-ec0203f204ff",
   "metadata": {},
   "outputs": [],
   "source": [
    "csv_file_list = ['data-Copy1.csv', 'data-Copy2.csv']\n",
    "\n"
   ]
  },
  {
   "cell_type": "code",
   "execution_count": null,
   "id": "3d1e778e-31c6-4835-9b26-a25778da6207",
   "metadata": {},
   "outputs": [],
   "source": [
    "import os\n",
    "import glob\n",
    "import pandas as pd\n"
   ]
  },
  {
   "cell_type": "code",
   "execution_count": null,
   "id": "7f06b87b-95c5-4be3-b897-b65617aaecbb",
   "metadata": {},
   "outputs": [],
   "source": [
    "list_of_dataframes = []\n",
    "\n",
    "for filename in csv_file_list:\n",
    "\n",
    "    list_of_dataframes.append(pd.read_csv(filename))\n",
    "\n",
    "\n",
    "merged_df = pd.concat(list_of_dataframes)\n",
    "\n",
    "\n",
    "print([merged_df])\n",
    "\n",
    "\n",
    "\n",
    "#combine all files in the list\n",
    "combined_csv = pd.concat([pd.read_csv(f) for f in csv_file_list ])\n",
    "#export to csv\n",
    "combined_csv.to_csv( \"combined_csv.csv\", index=False, encoding='utf-8-sig')"
   ]
  },
  {
   "cell_type": "code",
   "execution_count": null,
   "id": "b4337c6d-5463-4eb6-b221-d462bf3edec2",
   "metadata": {},
   "outputs": [],
   "source": [
    "data1 = pd.read_csv('data-Copy1.csv')\n",
    "data2 = pd.read_csv('data-Copy2.csv')\n",
    "  \n",
    "# using merge function by setting how='inner'\n",
    "output1 = pd.merge(data1, data2)\n",
    "  \n",
    "# displaying result\n",
    "print(output1)"
   ]
  },
  {
   "cell_type": "code",
   "execution_count": 1,
   "id": "0f0bacb7-ff80-4577-b235-b4c9f1b9945a",
   "metadata": {},
   "outputs": [],
   "source": [
    "import pandas as pd\n",
    "import glob\n",
    "interesting_files = glob.glob(\"*.csv\")\n",
    "df_list = []\n",
    "for filename in sorted(interesting_files):\n",
    "    df_list.append(pd.read_csv(filename))\n",
    "full_df = pd.concat(df_list)\n",
    "\n",
    "full_df.to_csv('output.csv')\n"
   ]
  },
  {
   "cell_type": "code",
   "execution_count": null,
   "id": "d03dca6a-b85f-4117-aa08-467cbbf8dd8d",
   "metadata": {},
   "outputs": [],
   "source": []
  }
 ],
 "metadata": {
  "kernelspec": {
   "display_name": "Python 3 (ipykernel)",
   "language": "python",
   "name": "python3"
  },
  "language_info": {
   "codemirror_mode": {
    "name": "ipython",
    "version": 3
   },
   "file_extension": ".py",
   "mimetype": "text/x-python",
   "name": "python",
   "nbconvert_exporter": "python",
   "pygments_lexer": "ipython3",
   "version": "3.8.0"
  }
 },
 "nbformat": 4,
 "nbformat_minor": 5
}
